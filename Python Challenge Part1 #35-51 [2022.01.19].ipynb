{
 "cells": [
  {
   "cell_type": "markdown",
   "id": "27f44a25",
   "metadata": {},
   "source": [
    "# for loop"
   ]
  },
  {
   "cell_type": "code",
   "execution_count": 2,
   "id": "f2b7714c",
   "metadata": {},
   "outputs": [
    {
     "name": "stdout",
     "output_type": "stream",
     "text": [
      "Enter your name: Amelia\n",
      "Amelia\n",
      "Amelia\n",
      "Amelia\n"
     ]
    }
   ],
   "source": [
    "#35\n",
    "name = input(\"Enter your name: \")\n",
    "for i in range(3):\n",
    "    print(name)"
   ]
  },
  {
   "cell_type": "code",
   "execution_count": 3,
   "id": "f65fc5cb",
   "metadata": {},
   "outputs": [
    {
     "name": "stdout",
     "output_type": "stream",
     "text": [
      "Enter your name: Amelia\n",
      "Enter the number: 4\n",
      "Amelia\n",
      "Amelia\n",
      "Amelia\n",
      "Amelia\n"
     ]
    }
   ],
   "source": [
    "#36\n",
    "name = input(\"Enter your name: \")\n",
    "times = int(input(\"Enter the number: \"))\n",
    "for i in range(times):\n",
    "    print(name)"
   ]
  },
  {
   "cell_type": "code",
   "execution_count": 4,
   "id": "3db7a71b",
   "metadata": {},
   "outputs": [
    {
     "name": "stdout",
     "output_type": "stream",
     "text": [
      "Enter your name: Amelia\n",
      "A\n",
      "m\n",
      "e\n",
      "l\n",
      "i\n",
      "a\n"
     ]
    }
   ],
   "source": [
    "#37\n",
    "name = input(\"Enter your name: \")\n",
    "for alphabet in name:\n",
    "    print(alphabet)"
   ]
  },
  {
   "cell_type": "code",
   "execution_count": 5,
   "id": "39f1048d",
   "metadata": {},
   "outputs": [
    {
     "name": "stdout",
     "output_type": "stream",
     "text": [
      "Enter your name: Amelia\n",
      "Enter the number: 3\n",
      "A\n",
      "m\n",
      "e\n",
      "l\n",
      "i\n",
      "a\n",
      "A\n",
      "m\n",
      "e\n",
      "l\n",
      "i\n",
      "a\n",
      "A\n",
      "m\n",
      "e\n",
      "l\n",
      "i\n",
      "a\n"
     ]
    }
   ],
   "source": [
    "#38\n",
    "name = input(\"Enter your name: \")\n",
    "times = int(input(\"Enter the number: \"))\n",
    "for i in range(times):\n",
    "    for alphabet in name:\n",
    "        print(alphabet)"
   ]
  },
  {
   "cell_type": "code",
   "execution_count": 8,
   "id": "33879545",
   "metadata": {},
   "outputs": [
    {
     "name": "stdout",
     "output_type": "stream",
     "text": [
      "Enter a number between 1 and 12: 5\n",
      "1 x 5 = 5\n",
      "2 x 5 = 10\n",
      "3 x 5 = 15\n",
      "4 x 5 = 20\n",
      "5 x 5 = 25\n",
      "6 x 5 = 30\n",
      "7 x 5 = 35\n",
      "8 x 5 = 40\n",
      "9 x 5 = 45\n",
      "10 x 5 = 50\n",
      "11 x 5 = 55\n",
      "12 x 5 = 60\n"
     ]
    }
   ],
   "source": [
    "#39\n",
    "num = int(input(\"Enter a number between 1 and 12: \"))\n",
    "for i in range(1, 13):\n",
    "    ans = i * num\n",
    "    print(i, 'x', num, \"=\", ans)"
   ]
  },
  {
   "cell_type": "code",
   "execution_count": 10,
   "id": "2921a584",
   "metadata": {},
   "outputs": [
    {
     "name": "stdout",
     "output_type": "stream",
     "text": [
      "Enter a number less than 50: 45\n",
      "50\n",
      "49\n",
      "48\n",
      "47\n",
      "46\n",
      "45\n"
     ]
    }
   ],
   "source": [
    "#40\n",
    "num = int(input(\"Enter a number less than 50: \"))\n",
    "for i in range(50, num-1, -1):\n",
    "    print(i)"
   ]
  },
  {
   "cell_type": "code",
   "execution_count": 12,
   "id": "eee50bf6",
   "metadata": {},
   "outputs": [
    {
     "name": "stdout",
     "output_type": "stream",
     "text": [
      "Enter your name: Amelia\n",
      "Enter the number: 5\n",
      "Amelia\n",
      "Amelia\n",
      "Amelia\n",
      "Amelia\n",
      "Amelia\n"
     ]
    }
   ],
   "source": [
    "#41\n",
    "name = input(\"Enter your name: \")\n",
    "num = int(input(\"Enter the number: \"))\n",
    "if num < 10:\n",
    "    for i in range(num):\n",
    "        print(name)\n",
    "else:\n",
    "    for i in range(3):\n",
    "        print(\"Too high\")"
   ]
  },
  {
   "cell_type": "code",
   "execution_count": 13,
   "id": "19b9b14f",
   "metadata": {},
   "outputs": [
    {
     "name": "stdout",
     "output_type": "stream",
     "text": [
      "Enter a number: 5\n",
      "Do you want this number included? (y/n): y\n",
      "Enter a number: 6\n",
      "Do you want this number included? (y/n): n\n",
      "Enter a number: 7\n",
      "Do you want this number included? (y/n): y\n",
      "Enter a number: 1\n",
      "Do you want this number included? (y/n): y\n",
      "Enter a number: 2\n",
      "Do you want this number included? (y/n): n\n",
      "13\n"
     ]
    }
   ],
   "source": [
    "#42\n",
    "total = 0\n",
    "for i in range(5):\n",
    "    num = int(input(\"Enter a number: \"))\n",
    "    ans = input(\"Do you want this number included? (y/n): \")\n",
    "    if ans == 'y':\n",
    "        total = total + num\n",
    "print(total)"
   ]
  },
  {
   "cell_type": "code",
   "execution_count": 14,
   "id": "9cca3763",
   "metadata": {},
   "outputs": [
    {
     "name": "stdout",
     "output_type": "stream",
     "text": [
      "Do you want to count up or count down? (u/d): u\n",
      "Enter a top number: 60\n",
      "1\n",
      "2\n",
      "3\n",
      "4\n",
      "5\n",
      "6\n",
      "7\n",
      "8\n",
      "9\n",
      "10\n",
      "11\n",
      "12\n",
      "13\n",
      "14\n",
      "15\n",
      "16\n",
      "17\n",
      "18\n",
      "19\n",
      "20\n",
      "21\n",
      "22\n",
      "23\n",
      "24\n",
      "25\n",
      "26\n",
      "27\n",
      "28\n",
      "29\n",
      "30\n",
      "31\n",
      "32\n",
      "33\n",
      "34\n",
      "35\n",
      "36\n",
      "37\n",
      "38\n",
      "39\n",
      "40\n",
      "41\n",
      "42\n",
      "43\n",
      "44\n",
      "45\n",
      "46\n",
      "47\n",
      "48\n",
      "49\n",
      "50\n",
      "51\n",
      "52\n",
      "53\n",
      "54\n",
      "55\n",
      "56\n",
      "57\n",
      "58\n",
      "59\n",
      "60\n"
     ]
    }
   ],
   "source": [
    "#43\n",
    "user = input(\"Do you want to count up or count down? (u/d): \")\n",
    "if user == 'u':\n",
    "    maxnum = int(input(\"Enter a top number: \"))\n",
    "    for i in range(1, maxnum+1):\n",
    "        print(i)\n",
    "elif user == 'd':\n",
    "    minnum = int(input(\"Enter a number below 20: \"))\n",
    "    for i in range(20, minnum-1, -1):\n",
    "        print(i)\n",
    "else:\n",
    "    print(\"I don't understand\")"
   ]
  },
  {
   "cell_type": "code",
   "execution_count": 15,
   "id": "59343916",
   "metadata": {},
   "outputs": [
    {
     "name": "stdout",
     "output_type": "stream",
     "text": [
      "How many friends do you want to invite to the party? : 3\n",
      "Enter a name of friend: Kate\n",
      "Kate has been invited\n",
      "Enter a name of friend: Mac\n",
      "Mac has been invited\n",
      "Enter a name of friend: Luna\n",
      "Luna has been invited\n"
     ]
    }
   ],
   "source": [
    "#44\n",
    "num = int(input(\"How many friends do you want to invite to the party? : \"))\n",
    "if num < 10:\n",
    "    for i in range(num):\n",
    "        name = input(\"Enter a name of friend: \")\n",
    "        print(\"{0} has been invited\".format(name))\n",
    "else:\n",
    "    print(\"Too many people\")"
   ]
  },
  {
   "cell_type": "markdown",
   "id": "a1db86f4",
   "metadata": {},
   "source": [
    "# while loop"
   ]
  },
  {
   "cell_type": "code",
   "execution_count": 16,
   "id": "19899f4d",
   "metadata": {},
   "outputs": [
    {
     "name": "stdout",
     "output_type": "stream",
     "text": [
      "Enter a number: 4\n",
      "The total is  4\n",
      "Enter a number: 6\n",
      "The total is  10\n",
      "Enter a number: 11\n",
      "The total is  21\n",
      "Enter a number: 36\n",
      "The total is  57\n"
     ]
    }
   ],
   "source": [
    "#45\n",
    "total = 0\n",
    "while total <= 50:\n",
    "    num = int(input(\"Enter a number: \"))\n",
    "    total += num\n",
    "    print(\"The total is \", total)"
   ]
  },
  {
   "cell_type": "code",
   "execution_count": 17,
   "id": "6f2a444a",
   "metadata": {},
   "outputs": [
    {
     "name": "stdout",
     "output_type": "stream",
     "text": [
      "Enter a number: 4\n",
      "Enter a number: 9\n",
      "The last number you entered was a  9\n"
     ]
    }
   ],
   "source": [
    "#46\n",
    "num = 0\n",
    "while num <= 5:\n",
    "    num = int(input(\"Enter a number: \"))\n",
    "print(\"The last number you entered was a \", num)"
   ]
  },
  {
   "cell_type": "code",
   "execution_count": 19,
   "id": "d53378d1",
   "metadata": {},
   "outputs": [
    {
     "name": "stdout",
     "output_type": "stream",
     "text": [
      "Enter a num1: 1\n",
      "Enter another number: 5\n",
      "Do you want to add another number? (y/n): y\n",
      "Enter another number: 6\n",
      "Do you want to add another number? (y/n): y\n",
      "Enter another number: 4\n",
      "Do you want to add another number? (y/n): n\n",
      "The total is  16\n"
     ]
    }
   ],
   "source": [
    "#47\n",
    "num1 = int(input(\"Enter a num1: \"))\n",
    "total = num1\n",
    "again = 'y'\n",
    "while again == 'y':\n",
    "    num2 = int(input(\"Enter another number: \"))\n",
    "    total += num2\n",
    "    again = input(\"Do you want to add another number? (y/n): \")\n",
    "print(\"The total is \", total)"
   ]
  },
  {
   "cell_type": "code",
   "execution_count": 21,
   "id": "e93b8c46",
   "metadata": {},
   "outputs": [
    {
     "name": "stdout",
     "output_type": "stream",
     "text": [
      "Enter a name you want to invite to the party: Mac\n",
      "Mac  has now been invited\n",
      "Do you want to invite another friend? (y/n): y\n",
      "Enter a name you want to invite to the party: Luna\n",
      "Luna  has now been invited\n",
      "Do you want to invite another friend? (y/n): y\n",
      "Enter a name you want to invite to the party: Stella\n",
      "Stella  has now been invited\n",
      "Do you want to invite another friend? (y/n): y\n",
      "Enter a name you want to invite to the party: Channel\n",
      "Channel  has now been invited\n",
      "Do you want to invite another friend? (y/n): n\n",
      "You have  4 people coming to your party\n"
     ]
    }
   ],
   "source": [
    "#48\n",
    "invite = 'y'\n",
    "count = 0\n",
    "while invite == 'y':\n",
    "    name = input(\"Enter a name you want to invite to the party: \")\n",
    "    print(name, ' has now been invited')\n",
    "    count += 1\n",
    "    invite = input(\"Do you want to invite another friend? (y/n): \")\n",
    "print(\"You have \", count, \"people coming to your party\")"
   ]
  },
  {
   "cell_type": "code",
   "execution_count": 24,
   "id": "d3cb4328",
   "metadata": {},
   "outputs": [
    {
     "name": "stdout",
     "output_type": "stream",
     "text": [
      "Enter a number: 2\n",
      "Too low Try again\n",
      "Guess another number: 14\n",
      "Too low Try again\n",
      "Guess another number: 23\n",
      "Too low Try again\n",
      "Guess another number: 44\n",
      "Too low Try again\n",
      "Guess another number: 61\n",
      "Too high Try again\n",
      "Guess another number: 52\n",
      "Too high Try again\n",
      "Guess another number: 47\n",
      "Too low Try again\n",
      "Guess another number: 49\n",
      "Too low Try again\n",
      "Guess another number: 50\n",
      "Well done, you took 9 attempts\n"
     ]
    }
   ],
   "source": [
    "#49\n",
    "count = 1\n",
    "compnum = 50\n",
    "usernum = int(input(\"Enter a number: \"))\n",
    "while usernum != compnum:\n",
    "    if usernum > compnum:\n",
    "        print(\"Too high Try again\")\n",
    "    else:\n",
    "        print(\"Too low Try again\")\n",
    "    count += 1\n",
    "    usernum = int(input(\"Guess another number: \"))\n",
    "print(\"Well done, you took\", count, \"attempts\")"
   ]
  },
  {
   "cell_type": "code",
   "execution_count": 25,
   "id": "ac54c09d",
   "metadata": {},
   "outputs": [
    {
     "name": "stdout",
     "output_type": "stream",
     "text": [
      "Enter a number between 10 and 20: 1\n",
      "Too low, please enter a number again\n",
      "Enter a number between 10 and 20: 36\n",
      "Too high, please enter a number again\n",
      "Enter a number between 10 and 20: 14\n",
      "Thank you\n"
     ]
    }
   ],
   "source": [
    "#50\n",
    "num = int(input(\"Enter a number between 10 and 20: \"))\n",
    "while num <= 10 or num >= 20:\n",
    "    if num <= 10:\n",
    "        print(\"Too low, please enter a number again\")\n",
    "    else:\n",
    "        print(\"Too high, please enter a number again\")\n",
    "    num = int(input(\"Enter a number between 10 and 20: \"))\n",
    "print(\"Thank you\")"
   ]
  },
  {
   "cell_type": "code",
   "execution_count": 26,
   "id": "e9e4d514",
   "metadata": {},
   "outputs": [
    {
     "name": "stdout",
     "output_type": "stream",
     "text": [
      "There are 10 green bottles hanging on the wall\n",
      "10 green bottles hanging on the wall\n",
      "And if one green bottle should accidentally fall\n",
      "How many green bottles will be hanging on the wall?: 4\n",
      "No, Try again: 7\n",
      "No, Try again: 9\n",
      "There are 9 green bottles hanging on the wall\n",
      "9 green bottles hanging on the wall\n",
      "And if one green bottle should accidentally fall\n",
      "How many green bottles will be hanging on the wall?: 8\n",
      "There will be 8 green bottles hanging on the wall\n",
      "There are 8 green bottles hanging on the wall\n",
      "8 green bottles hanging on the wall\n",
      "And if one green bottle should accidentally fall\n",
      "How many green bottles will be hanging on the wall?: 7\n",
      "There will be 7 green bottles hanging on the wall\n",
      "There are 7 green bottles hanging on the wall\n",
      "7 green bottles hanging on the wall\n",
      "And if one green bottle should accidentally fall\n",
      "How many green bottles will be hanging on the wall?: 6\n",
      "There will be 6 green bottles hanging on the wall\n",
      "There are 6 green bottles hanging on the wall\n",
      "6 green bottles hanging on the wall\n",
      "And if one green bottle should accidentally fall\n",
      "How many green bottles will be hanging on the wall?: 5\n",
      "There will be 5 green bottles hanging on the wall\n",
      "There are 5 green bottles hanging on the wall\n",
      "5 green bottles hanging on the wall\n",
      "And if one green bottle should accidentally fall\n",
      "How many green bottles will be hanging on the wall?: 4\n",
      "There will be 4 green bottles hanging on the wall\n",
      "There are 4 green bottles hanging on the wall\n",
      "4 green bottles hanging on the wall\n",
      "And if one green bottle should accidentally fall\n",
      "How many green bottles will be hanging on the wall?: 3\n",
      "There will be 3 green bottles hanging on the wall\n",
      "There are 3 green bottles hanging on the wall\n",
      "3 green bottles hanging on the wall\n",
      "And if one green bottle should accidentally fall\n",
      "How many green bottles will be hanging on the wall?: 2\n",
      "There will be 2 green bottles hanging on the wall\n",
      "There are 2 green bottles hanging on the wall\n",
      "2 green bottles hanging on the wall\n",
      "And if one green bottle should accidentally fall\n",
      "How many green bottles will be hanging on the wall?: 1\n",
      "There will be 1 green bottles hanging on the wall\n",
      "There are 1 green bottles hanging on the wall\n",
      "1 green bottles hanging on the wall\n",
      "And if one green bottle should accidentally fall\n",
      "How many green bottles will be hanging on the wall?: 0\n",
      "There will be 0 green bottles hanging on the wall\n",
      "There are no more green bottles hanging on the wall.\n"
     ]
    }
   ],
   "source": [
    "#51\n",
    "num = 10\n",
    "\n",
    "while num > 0:\n",
    "    print(\"There are\",num, \"green bottles hanging on the wall\")\n",
    "    print(num, \"green bottles hanging on the wall\")\n",
    "    print(\"And if one green bottle should accidentally fall\"\"\")\n",
    "    num = num - 1\n",
    "    ans = int(input(\"How many green bottles will be hanging on the wall?: \"))\n",
    "    if ans == num:\n",
    "        print(\"There will be\", num, \"green bottles hanging on the wall\")\n",
    "    else:\n",
    "        while ans != num:\n",
    "            ans = int(input(\"No, Try again: \"))\n",
    "\n",
    "print(\"There are no more green bottles hanging on the wall.\")"
   ]
  },
  {
   "cell_type": "code",
   "execution_count": null,
   "id": "d999f9d4",
   "metadata": {},
   "outputs": [],
   "source": []
  }
 ],
 "metadata": {
  "kernelspec": {
   "display_name": "Python 3",
   "language": "python",
   "name": "python3"
  },
  "language_info": {
   "codemirror_mode": {
    "name": "ipython",
    "version": 3
   },
   "file_extension": ".py",
   "mimetype": "text/x-python",
   "name": "python",
   "nbconvert_exporter": "python",
   "pygments_lexer": "ipython3",
   "version": "3.8.8"
  }
 },
 "nbformat": 4,
 "nbformat_minor": 5
}
