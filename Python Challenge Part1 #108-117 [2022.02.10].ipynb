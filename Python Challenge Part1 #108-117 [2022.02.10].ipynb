{
 "cells": [
  {
   "cell_type": "code",
   "execution_count": 2,
   "id": "26822a55",
   "metadata": {},
   "outputs": [
    {
     "name": "stdout",
     "output_type": "stream",
     "text": [
      "Enter a new name: Jamie\n",
      "Bob\n",
      "Tom\n",
      "Gemma\n",
      "Sarah\n",
      "Timothy\n",
      "Jamie\n",
      "\n"
     ]
    }
   ],
   "source": [
    "#108\n",
    "#106에서 작성한 Names.txt 파일 열어 새로운 이름 입력하라고 요청 -> 입력된 이름을 파일 끝에 추가하고 전체 파일 출력하기\n",
    "\n",
    "f = open('Names.txt', 'a')\n",
    "new_name = input(\"Enter a new name: \")\n",
    "f.write(new_name + \"\\n\")\n",
    "f.close()\n",
    "\n",
    "f= open(\"Names.txt\", 'r')\n",
    "print(f.read())\n",
    "f.close()"
   ]
  },
  {
   "cell_type": "code",
   "execution_count": 12,
   "id": "7500d8ba",
   "metadata": {},
   "outputs": [
    {
     "name": "stdout",
     "output_type": "stream",
     "text": [
      "1) Create a new file\n",
      "2) Display the file\n",
      "3) Add a new item to the file\n",
      "Make a selection 1, 2 or 3: 3\n",
      "Enter a school subject: Art\n",
      "History\n",
      "Math\n",
      "English\n",
      "Art\n",
      "\n"
     ]
    }
   ],
   "source": [
    "#109\n",
    "\n",
    "print(\"\"\"1) Create a new file\n",
    "2) Display the file\n",
    "3) Add a new item to the file\"\"\")\n",
    "choice = int(input(\"Make a selection 1, 2 or 3: \"))\n",
    "\n",
    "if choice == 1:\n",
    "    subject = input(\"Enter a school subject: \")\n",
    "    f = open(\"subject.txt\", \"w\")\n",
    "    f.write(subject + \"\\n\")\n",
    "    f.close()\n",
    "elif choice == 2:\n",
    "    f = open(\"subject.txt\", \"r\")\n",
    "    print(f.read())\n",
    "elif choice == 3:\n",
    "    subject = input(\"Enter a school subject: \")\n",
    "    f = open(\"subject.txt\", \"a\")\n",
    "    f.write(subject + \"\\n\")\n",
    "    f.close()\n",
    "    f = open(\"subject.txt\", \"r\")\n",
    "    print(f.read())\n",
    "else:\n",
    "    print(\"Invalid option\")"
   ]
  },
  {
   "cell_type": "code",
   "execution_count": 14,
   "id": "9cd07680",
   "metadata": {},
   "outputs": [
    {
     "name": "stdout",
     "output_type": "stream",
     "text": [
      "Bob\n",
      "Tom\n",
      "Gemma\n",
      "Sarah\n",
      "Timothy\n",
      "Jamie\n",
      "\n",
      "Enter a name from the list: Gemma\n"
     ]
    }
   ],
   "source": [
    "#110\n",
    "#앞에서 생성한 파일을 이용해 목록의 이름들을 출력\n",
    "#그 이름들 중 하나 입력하라고 요청 --> 그 이름을 제외한 나머지 이름들을 새로운 파일에 저장하기\n",
    "\n",
    "f = open(\"Names.txt\", \"r\")\n",
    "print(f.read())\n",
    "f.close()\n",
    "\n",
    "f = open('Names.txt', 'r')\n",
    "selectname = input(\"Enter a name from the list: \")\n",
    "\n",
    "for row in f:\n",
    "    if row != selectname:\n",
    "        f = open('Names2.txt', 'a')\n",
    "        newrecord = row\n",
    "        f.write(newrecord)\n",
    "        f.close()\n",
    "f.close()"
   ]
  },
  {
   "cell_type": "markdown",
   "id": "1a40480a",
   "metadata": {},
   "source": [
    "# CSV 파일 읽기와 쓰기\n",
    "\n",
    "CSV: **Comma Separated Values**\n",
    "\n",
    "데이터 제어하는데 유용한 파일\n",
    "\n",
    "옵션\n",
    "\n",
    "- w : 새로운 파일 생성하고 그 파일에 작성, **덮어쓰기O**\n",
    "\n",
    "- x : 새로운 파일 작성하고 그 파일에 작성 **덮어쓰기X**\n",
    "\n",
    "- r : 읽기 작업만\n",
    "\n",
    "- a : 쓰기 작업, 파일 끝에 데이터 추가함"
   ]
  },
  {
   "cell_type": "code",
   "execution_count": 16,
   "id": "f82bd76a",
   "metadata": {},
   "outputs": [],
   "source": [
    "#111\n",
    "import csv\n",
    "f = open(\"Books.csv\", \"w\")\n",
    "newrecord = \"To kill A Mockingbird, Harper Lee, 1960\\n\"\n",
    "f.write(str(newrecord))\n",
    "\n",
    "newrecord = \"A Breif History of Time, Stephen Hawking, 1988\\n\"\n",
    "f.write(str(newrecord))\n",
    "\n",
    "newrecord = \"the Great Gatsby, F. Scott Fitzerald, 1922\\n\"\n",
    "f.write(str(newrecord))\n",
    "\n",
    "newrecord = \"The Man who Mistook His Wife for a Hat, Oliver Sacks, 1985\\n\"\n",
    "f.write(str(newrecord))\n",
    "\n",
    "newrecord = \"Pride and Prejudice, Jane Austen, 1813\\n\"\n",
    "f.write(str(newrecord))\n",
    "\n",
    "f.close()"
   ]
  },
  {
   "cell_type": "code",
   "execution_count": 18,
   "id": "35ddd2f3",
   "metadata": {},
   "outputs": [
    {
     "name": "stdout",
     "output_type": "stream",
     "text": [
      "Enter a Title: Great Escape\n",
      "Enter a Author: Mike\n",
      "Enter a Year: 2011\n",
      "To kill A Mockingbird, Harper Lee, 1960\n",
      "\n",
      "A Breif History of Time, Stephen Hawking, 1988\n",
      "\n",
      "the Great Gatsby, F. Scott Fitzerald, 1922\n",
      "\n",
      "The Man who Mistook His Wife for a Hat, Oliver Sacks, 1985\n",
      "\n",
      "Pride and Prejudice, Jane Austen, 1813\n",
      "\n",
      "Python Challenge, Brian, 2009\n",
      "\n",
      "Great Escape, Mike, 2011\n",
      "\n"
     ]
    }
   ],
   "source": [
    "#112\n",
    "#111에서 만든 파일 이용, 사용자에게 다른 레코드 입력하라고 요청하고 입력한 파일을 끝에 추가\n",
    "#csv 파일의 각 행을 한 줄에 하나씩 출력하기\n",
    "\n",
    "import csv\n",
    "f = open('Books.csv', 'a')\n",
    "title = input(\"Enter a Title: \")\n",
    "author = input(\"Enter a Author: \")\n",
    "year = input(\"Enter a Year: \")\n",
    "newrecord = title + \", \" + author + \", \" + year + \"\\n\"\n",
    "\n",
    "f.write(str(newrecord))\n",
    "f.close()\n",
    "\n",
    "f = open('Books.csv', 'r')\n",
    "for row in f:\n",
    "    print(row)\n",
    "f.close()"
   ]
  },
  {
   "cell_type": "code",
   "execution_count": 20,
   "id": "3f67958c",
   "metadata": {},
   "outputs": [
    {
     "name": "stdout",
     "output_type": "stream",
     "text": [
      "How many records do you want to add? : 2\n",
      "Enter a Title: Vietnamese Co So\n",
      "Enter a Author: VU Van Thi\n",
      "Enter a Year: 2001\n",
      "Enter a Title: HSK 3\n",
      "Enter a Author: Hackers\n",
      "Enter a Year: 2019\n",
      "Enter an author name to search for: Hackers\n",
      "HSK 3, Hackers, 2019\n",
      "\n"
     ]
    }
   ],
   "source": [
    "#113\n",
    "#Books.csv 파일 이용해 리스트에 몇 개의 레코드 추가하고 싶은지 요청에 입력한 만큼 추가하기\n",
    "#모든 데이터 추가 후 사용자에게 검색할 저자의 이름 입력 요청 --> 입력한 저자의 모든 책 정보 출력하기\n",
    "\n",
    "f = open('Books.csv', 'a')\n",
    "howmany = int(input(\"How many records do you want to add? : \"))\n",
    "for i in range(howmany):\n",
    "    title = input(\"Enter a Title: \")\n",
    "    author = input(\"Enter a Author: \")\n",
    "    year = input(\"Enter a Year: \")\n",
    "    newrecord = title + \", \" + author + \", \" + year + \"\\n\"\n",
    "    f.write(str(newrecord))\n",
    "f.close()\n",
    "\n",
    "authorname = input(\"Enter an author name to search for: \")\n",
    "f = open('Books.csv', 'r')\n",
    "count = 0\n",
    "\n",
    "for row in f:\n",
    "    if authorname in str(row):\n",
    "        print(row)\n",
    "        count += 1\n",
    "if count == 0:\n",
    "    print(\"There are no books by that author in this list\")\n",
    "f.close()"
   ]
  },
  {
   "cell_type": "code",
   "execution_count": 5,
   "id": "e0e753f1",
   "metadata": {},
   "outputs": [
    {
     "name": "stdout",
     "output_type": "stream",
     "text": [
      "Enter a start year: 2001\n",
      "Enter an end year: 2016\n",
      "['Python Challenge', ' Brian', ' 2009']\n",
      "['Great Escape', ' Mike', ' 2011']\n",
      "['Vietnamese Co So', ' VU Van Thi', ' 2001']\n"
     ]
    }
   ],
   "source": [
    "#114\n",
    "#Books.csv 파일 사용, 사용자에게 시작연도와 끝 연도 입력하라고 요청\n",
    "#입력된 두 연도 사이에 출간된 모든 책 출력하기\n",
    "import csv\n",
    "\n",
    "f = open('Books.csv', 'r')\n",
    "startyear= int(input(\"Enter a start year: \"))\n",
    "endyear = int(input(\"Enter an end year: \"))\n",
    "\n",
    "f = list(csv.reader(open('Books.csv')))\n",
    "#print(f)\n",
    "\n",
    "tmp = []\n",
    "for row in f:\n",
    "    tmp.append(row)\n",
    "    \n",
    "for row in tmp:\n",
    "    if int(row[2]) >= startyear and int(row[2])<= endyear:\n",
    "        print(row)"
   ]
  },
  {
   "cell_type": "markdown",
   "id": "abad47c5",
   "metadata": {},
   "source": [
    "# + 114 \n",
    "\n",
    "csv 파일은 변경할 수 없고 추가만 가능\n",
    "\n",
    "--> 만약 파일 변경하고자 한다면 임시 리스트에 작성해야 함\n",
    "\n",
    "--> tmp라는 이름의 리스트를 사용한 것"
   ]
  },
  {
   "cell_type": "code",
   "execution_count": 12,
   "id": "e758fd36",
   "metadata": {},
   "outputs": [
    {
     "name": "stdout",
     "output_type": "stream",
     "text": [
      "No.0 : To kill A Mockingbird, Harper Lee, 1960\n",
      "\n",
      "No.1 : A Breif History of Time, Stephen Hawking, 1988\n",
      "\n",
      "No.2 : the Great Gatsby, F. Scott Fitzerald, 1922\n",
      "\n",
      "No.3 : The Man who Mistook His Wife for a Hat, Oliver Sacks, 1985\n",
      "\n",
      "No.4 : Pride and Prejudice, Jane Austen, 1813\n",
      "\n",
      "No.5 : Python Challenge, Brian, 2009\n",
      "\n",
      "No.6 : Great Escape, Mike, 2011\n",
      "\n",
      "No.7 : Vietnamese Co So, VU Van Thi, 2001\n",
      "\n",
      "No.8 : HSK 3, Hackers, 2019\n",
      "\n"
     ]
    }
   ],
   "source": [
    "#115\n",
    "#Books.csv 파일 사용해 각 행 번호와 그에 대한 데이터 출력하기\n",
    "import csv\n",
    "\n",
    "f = open(\"Books.csv\", \"r\")\n",
    "x = 0\n",
    "for row in f:\n",
    "    display = \"No.\" + str(x) + \" : \" + row\n",
    "    print(display)\n",
    "    x += 1"
   ]
  },
  {
   "cell_type": "code",
   "execution_count": 24,
   "id": "c923b1b7",
   "metadata": {},
   "outputs": [
    {
     "name": "stdout",
     "output_type": "stream",
     "text": [
      "No.0 : To kill A Mockingbird\n",
      "No.1 : A Breif History of Time\n",
      "No.2 : the Great Gatsby\n",
      "No.3 : The Man who Mistook His Wife for a Hat\n",
      "No.4 : Pride and Prejudice\n",
      "No.5 : Python Challenge\n",
      "No.6 : Great Escape\n",
      "No.7 : Vietnamese Co So\n",
      "No.8 : HSK 3\n",
      "Enter a row number to delete: 8\n",
      "No.0 : To kill A Mockingbird\n",
      "No.1 : A Breif History of Time\n",
      "No.2 : the Great Gatsby\n",
      "No.3 : The Man who Mistook His Wife for a Hat\n",
      "No.4 : Pride and Prejudice\n",
      "No.5 : Python Challenge\n",
      "No.6 : Great Escape\n",
      "No.7 : Vietnamese Co So\n",
      "Enter a row number to change: 7\n",
      "['Vietnamese Co So', ' VU Van Thi', ' 2001']\n",
      "Which part do you want to change?:2\n",
      "Enter a new data: 2010\n"
     ]
    }
   ],
   "source": [
    "#116\n",
    "#Books.csv 파일의 데이터를 리스트로 가져오기\n",
    "import csv\n",
    "f = list(csv.reader(open('Books.csv')))\n",
    "\n",
    "booklist = []\n",
    "for row in f:\n",
    "    booklist.append(row)\n",
    "\n",
    "\n",
    "#사용자에게 리스트 표시하고 리스트의 어떤 행 삭제하고 싶은지 요청, 삭제\n",
    "x = 0\n",
    "for row in booklist:\n",
    "    content = \"No.\" + str(x) + \" : \" + row[0]\n",
    "    print(content)\n",
    "    x += 1\n",
    "\n",
    "userdel = int(input(\"Enter a row number to delete: \"))\n",
    "del booklist[userdel]\n",
    "\n",
    "\n",
    "#수정하고 싶은 데이터 선택하라고 요청, 수정\n",
    "x = 0\n",
    "for row in booklist:\n",
    "    content = \"No.\" + str(x) + \" : \" + row[0]\n",
    "    print(content)\n",
    "    x += 1\n",
    "useralt = int(input(\"Enter a row number to change: \"))\n",
    "print(booklist[useralt])\n",
    "\n",
    "newpart = int(input(\"Which part do you want to change?:\"))\n",
    "newdata = input(\"Enter a new data: \")\n",
    "booklist[useralt][newpart] = newdata\n",
    "\n",
    "#데이터를 원래의 csv 파일에 다시 써서 기존 데이터 수정된 데이터로 덮어쓰기\n",
    "f = open('Books.csv', 'w')\n",
    "for row in booklist:\n",
    "    newrecord = row[0] + \", \" + row[1] + \", \" + row[2] + \"\\n\"\n",
    "    f.write(newrecord)\n",
    "f.close()"
   ]
  },
  {
   "cell_type": "code",
   "execution_count": 28,
   "id": "0f4ed60d",
   "metadata": {},
   "outputs": [
    {
     "name": "stdout",
     "output_type": "stream",
     "text": [
      "Enter your name: Amel\n",
      "97 + 80 = \n",
      "Enter the answer: 177\n",
      "3 + 73 = \n",
      "Enter the answer: 76\n"
     ]
    }
   ],
   "source": [
    "#117\n",
    "#사용자의 이름을 묻고 두 개의 임의의 질문을 생성하는 수학퀴즈 만듦\n",
    "#사용자의 이름과 질문, 답변 그리고 최종점수를 csv에 저장함\n",
    "#프로그램이 실행될 때마다 csv 파일에 추가되며 덮어쓰지 않음\n",
    "import random\n",
    "\n",
    "score = 0\n",
    "name = input(\"Enter your name: \")\n",
    "q1num1 = random.randint(1, 100)\n",
    "q1num2 = random.randint(1, 100)\n",
    "\n",
    "q1 = str(q1num1)+ \" + \" + str(q1num2) + \" = \"\n",
    "print(q1)\n",
    "ans1 = int(input(\"Enter the answer: \"))\n",
    "sol1 = q1num1 + q1num2\n",
    "\n",
    "if sol1 == ans1:\n",
    "    score += 1\n",
    "    \n",
    "q2num1 = random.randint(1, 100)\n",
    "q2num2 = random.randint(1, 100)\n",
    "\n",
    "q2 = str(q2num1)+ \" + \" + str(q2num2) + \" = \"\n",
    "print(q2)\n",
    "ans2 = int(input(\"Enter the answer: \"))\n",
    "sol2 = q2num1 + q2num2\n",
    "\n",
    "if sol2 == ans2:\n",
    "    score += 1\n",
    "    \n",
    "f = open(\"QuizScore.csv\", \"a\")\n",
    "newrecord = name + \", \" + q1 + \", \" + str(ans1) + \", \" + q2 + \", \" + str(ans2) + \", \" + str(score) + \"\\n\"\n",
    "f.write(newrecord)\n",
    "f.close()"
   ]
  },
  {
   "cell_type": "code",
   "execution_count": null,
   "id": "529a5135",
   "metadata": {},
   "outputs": [],
   "source": []
  }
 ],
 "metadata": {
  "kernelspec": {
   "display_name": "Python 3",
   "language": "python",
   "name": "python3"
  },
  "language_info": {
   "codemirror_mode": {
    "name": "ipython",
    "version": 3
   },
   "file_extension": ".py",
   "mimetype": "text/x-python",
   "name": "python",
   "nbconvert_exporter": "python",
   "pygments_lexer": "ipython3",
   "version": "3.8.8"
  }
 },
 "nbformat": 4,
 "nbformat_minor": 5
}
