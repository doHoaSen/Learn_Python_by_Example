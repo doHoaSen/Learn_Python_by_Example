{
 "cells": [
  {
   "cell_type": "markdown",
   "id": "35cfad51",
   "metadata": {},
   "source": [
    "# 2차원 리스트와 딕셔너리"
   ]
  },
  {
   "cell_type": "code",
   "execution_count": 1,
   "id": "3a7f1ac1",
   "metadata": {},
   "outputs": [
    {
     "name": "stdout",
     "output_type": "stream",
     "text": [
      "[[2, 5, 8], [3, 7, 4], [1, 6, 9], [4, 2, 0]]\n"
     ]
    }
   ],
   "source": [
    "#96\n",
    "#2차원 리스트로 다음의 데이터 생성\n",
    "\n",
    "simple_array = [[2, 5, 8],\n",
    "               [3, 7, 4],\n",
    "               [1, 6, 9],\n",
    "               [4, 2, 0]]\n",
    "\n",
    "print(simple_array)"
   ]
  },
  {
   "cell_type": "code",
   "execution_count": 2,
   "id": "2bbf74a1",
   "metadata": {},
   "outputs": [
    {
     "name": "stdout",
     "output_type": "stream",
     "text": [
      "행을 선택하세요: 2\n",
      "열을 선택하세요: 2\n",
      "9\n"
     ]
    }
   ],
   "source": [
    "#97\n",
    "#사용자에게 행과 열 선택하라 요청, 2차원 리스트 이용해 해당 값 출력\n",
    "simple_array = [[2, 5, 8],\n",
    "               [3, 7, 4],\n",
    "               [1, 6, 9],\n",
    "               [4, 2, 0]]\n",
    "user_row = int(input(\"행을 선택하세요: \"))\n",
    "user_col = int(input(\"열을 선택하세요: \"))\n",
    "\n",
    "print(simple_array[user_row][user_col])"
   ]
  },
  {
   "cell_type": "code",
   "execution_count": 7,
   "id": "85be3663",
   "metadata": {},
   "outputs": [
    {
     "name": "stdout",
     "output_type": "stream",
     "text": [
      "행을 선택하세요: 1\n",
      "[3, 7, 4]\n",
      "새로운 값을 입력하세요: 4\n",
      "[3, 7, 4, 4]\n"
     ]
    }
   ],
   "source": [
    "#98\n",
    "#사용자에게 표시할 행선택하라 요청 --> 출력, 새로운 값 입력하라 요청, 그것을 표시한 행에 추가하고 그 행 다시 출력하기\n",
    "simple_list = [[2, 5, 8], [3, 7, 4],[1, 6, 9], [4, 2, 0]]\n",
    "user_row = int(input(\"행을 선택하세요: \"))\n",
    "print(simple_list[user_row])\n",
    "\n",
    "new_value = int(input(\"새로운 값을 입력하세요: \"))\n",
    "simple_list[user_row].append(new_value)\n",
    "print(simple_list[user_row])"
   ]
  },
  {
   "cell_type": "code",
   "execution_count": 10,
   "id": "403af0e3",
   "metadata": {},
   "outputs": [
    {
     "name": "stdout",
     "output_type": "stream",
     "text": [
      "[[2, 5, 8], [3, 7, 4], [1, 6, 9], [4, 2, 0]]\n",
      "Select a row: 1\n",
      "[3, 7, 4]\n",
      "Select a column: 0\n",
      "3\n",
      "Do you want to change this value? (y/n): y\n",
      "Enter a new value: 9\n",
      "[9, 7, 4]\n"
     ]
    }
   ],
   "source": [
    "#99\n",
    "simple_list = [[2, 5, 8], [3, 7, 4],[1, 6, 9], [4, 2, 0]]\n",
    "print(simple_list)\n",
    "\n",
    "user_row = int(input(\"Select a row: \"))\n",
    "print(simple_list[user_row])\n",
    "\n",
    "user_col = int(input(\"Select a column: \"))\n",
    "print(simple_list[user_row][user_col])\n",
    "\n",
    "change = input(\"Do you want to change this value? (y/n): \")\n",
    "if change == 'y':\n",
    "    new_value = int(input(\"Enter a new value: \"))\n",
    "    simple_list[user_row][user_col] = new_value\n",
    "    \n",
    "print(simple_list[user_row])"
   ]
  },
  {
   "cell_type": "code",
   "execution_count": 13,
   "id": "639ad519",
   "metadata": {},
   "outputs": [
    {
     "name": "stdout",
     "output_type": "stream",
     "text": [
      "{'John': {'N': 3056, 'S': 8463, 'E': 8441, 'W': 2694}, 'Tom': {'N': 4832, 'S': 6786, 'E': 4737, 'W': 3612}, 'Anne': {'N': 5239, 'S': 4802, 'E': 5820, 'W': 1859}, 'Fiona': {'N': 3904, 'S': 3645, 'E': 8821, 'W': 2451}}\n"
     ]
    }
   ],
   "source": [
    "#100\n",
    "#2차원 딕셔너리 사용하기\n",
    "sales_data = {'John': {'N': 3056, 'S': 8463, 'E': 8441, 'W': 2694},\n",
    "        'Tom': {'N': 4832, 'S': 6786, 'E': 4737, 'W': 3612},\n",
    "       'Anne': {'N': 5239, 'S': 4802, 'E': 5820, 'W': 1859},\n",
    "       'Fiona': {'N': 3904, 'S': 3645, 'E': 8821, 'W': 2451}}\n",
    "\n",
    "print(sales_data)"
   ]
  },
  {
   "cell_type": "code",
   "execution_count": 16,
   "id": "91206c28",
   "metadata": {},
   "outputs": [
    {
     "name": "stdout",
     "output_type": "stream",
     "text": [
      "{'John': {'N': 3056, 'S': 8463, 'E': 8441, 'W': 2694}, 'Tom': {'N': 4832, 'S': 6786, 'E': 4737, 'W': 3612}, 'Anne': {'N': 5239, 'S': 4802, 'E': 5820, 'W': 1859}, 'Fiona': {'N': 3904, 'S': 3645, 'E': 8821, 'W': 2451}}\n",
      "Enter a name: Tom\n",
      "Enter a region: S\n",
      "6786\n",
      "Enter the sales data you want to change: 4012\n",
      "{'N': 4832, 'S': 4012, 'E': 4737, 'W': 3612}\n"
     ]
    }
   ],
   "source": [
    "#101\n",
    "sales_data = {'John': {'N': 3056, 'S': 8463, 'E': 8441, 'W': 2694},\n",
    "        'Tom': {'N': 4832, 'S': 6786, 'E': 4737, 'W': 3612},\n",
    "       'Anne': {'N': 5239, 'S': 4802, 'E': 5820, 'W': 1859},\n",
    "       'Fiona': {'N': 3904, 'S': 3645, 'E': 8821, 'W': 2451}}\n",
    "print(sales_data)\n",
    "\n",
    "name = input(\"Enter a name: \")\n",
    "region = input(\"Enter a region: \")\n",
    "print(sales_data[name][region])\n",
    "\n",
    "changedata = int(input(\"Enter the sales data you want to change: \"))\n",
    "\n",
    "sales_data[name][region] = changedata\n",
    "print(sales_data[name])"
   ]
  },
  {
   "cell_type": "code",
   "execution_count": 17,
   "id": "9a8cdf90",
   "metadata": {},
   "outputs": [
    {
     "name": "stdout",
     "output_type": "stream",
     "text": [
      "Enter a name: John\n",
      "Enter a age: 19\n",
      "Enter a size of shoes: 275\n",
      "Enter a name: Elvis\n",
      "Enter a age: 22\n",
      "Enter a size of shoes: 265\n",
      "Enter a name: Amel\n",
      "Enter a age: 24\n",
      "Enter a size of shoes: 235\n",
      "Enter a name: Julia\n",
      "Enter a age: 13\n",
      "Enter a size of shoes: 220\n",
      "{'John': {'Age': 19, 'Size': 275}, 'Elvis': {'Age': 22, 'Size': 265}, 'Amel': {'Age': 24, 'Size': 235}, 'Julia': {'Age': 13, 'Size': 220}}\n",
      "Enter a name: Elvis\n",
      "{'Age': 22, 'Size': 265}\n"
     ]
    }
   ],
   "source": [
    "#102\n",
    "shoesdata = {}\n",
    "for i in range(4):\n",
    "    name = input(\"Enter a name: \")\n",
    "    age = int(input(\"Enter a age: \"))\n",
    "    size = int(input(\"Enter a size of shoes: \"))\n",
    "    shoesdata[name] = {'Age': age, 'Size': size}\n",
    "print(shoesdata)\n",
    "\n",
    "username = input(\"Enter a name: \")\n",
    "print(shoesdata[username])"
   ]
  },
  {
   "cell_type": "code",
   "execution_count": 18,
   "id": "2396d79b",
   "metadata": {},
   "outputs": [
    {
     "name": "stdout",
     "output_type": "stream",
     "text": [
      "Enter a name: John\n",
      "Enter a age: 19\n",
      "Enter a size of shoes: 275\n",
      "Enter a name: Elvis\n",
      "Enter a age: 22\n",
      "Enter a size of shoes: 265\n",
      "Enter a name: Amel\n",
      "Enter a age: 24\n",
      "Enter a size of shoes: 235\n",
      "Enter a name: Julia\n",
      "Enter a age: 13\n",
      "Enter a size of shoes: 220\n",
      "John 19\n",
      "Elvis 22\n",
      "Amel 24\n",
      "Julia 13\n"
     ]
    }
   ],
   "source": [
    "#103\n",
    "shoesdata = {}\n",
    "for i in range(4):\n",
    "    name = input(\"Enter a name: \")\n",
    "    age = int(input(\"Enter a age: \"))\n",
    "    size = int(input(\"Enter a size of shoes: \"))\n",
    "    shoesdata[name] = {'Age': age, 'Size': size}\n",
    "\n",
    "for name in shoesdata:\n",
    "    print(name, shoesdata[name]['Age'])"
   ]
  },
  {
   "cell_type": "code",
   "execution_count": 20,
   "id": "cf8e0954",
   "metadata": {},
   "outputs": [
    {
     "name": "stdout",
     "output_type": "stream",
     "text": [
      "Enter a name: John\n",
      "Enter a age: 19\n",
      "Enter a size of shoes: 275\n",
      "Enter a name: Elvis\n",
      "Enter a age: 22\n",
      "Enter a size of shoes: 265\n",
      "Enter a name: Amel\n",
      "Enter a age: 24\n",
      "Enter a size of shoes: 235\n",
      "Enter a name: Julia\n",
      "Enter a age: 13\n",
      "Enter a size of shoes: 220\n",
      "Enter a name want to delete: Elvis\n",
      "John 19 275\n",
      "Amel 24 235\n",
      "Julia 13 220\n"
     ]
    }
   ],
   "source": [
    "#104\n",
    "shoesdata = {}\n",
    "for i in range(4):\n",
    "    name = input(\"Enter a name: \")\n",
    "    age = int(input(\"Enter a age: \"))\n",
    "    size = int(input(\"Enter a size of shoes: \"))\n",
    "    shoesdata[name] = {'Age': age, 'Size': size}\n",
    "\n",
    "delname = input(\"Enter a name want to delete: \")\n",
    "del shoesdata[delname]\n",
    "\n",
    "for name in shoesdata:\n",
    "    print(name, shoesdata[name][\"Age\"], shoesdata[name][\"Size\"])"
   ]
  },
  {
   "cell_type": "code",
   "execution_count": null,
   "id": "fd162944",
   "metadata": {},
   "outputs": [],
   "source": []
  }
 ],
 "metadata": {
  "kernelspec": {
   "display_name": "Python 3",
   "language": "python",
   "name": "python3"
  },
  "language_info": {
   "codemirror_mode": {
    "name": "ipython",
    "version": 3
   },
   "file_extension": ".py",
   "mimetype": "text/x-python",
   "name": "python",
   "nbconvert_exporter": "python",
   "pygments_lexer": "ipython3",
   "version": "3.8.8"
  }
 },
 "nbformat": 4,
 "nbformat_minor": 5
}
