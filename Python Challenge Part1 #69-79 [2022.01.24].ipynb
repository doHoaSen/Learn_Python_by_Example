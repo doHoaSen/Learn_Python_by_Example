{
 "cells": [
  {
   "cell_type": "code",
   "execution_count": 2,
   "id": "a3ac963c",
   "metadata": {},
   "outputs": [
    {
     "name": "stdout",
     "output_type": "stream",
     "text": [
      "('Korea', 'Vietnam', 'USA', 'Italy', 'France')\n",
      "\n",
      "please enter one of the countries from above: Italy\n",
      "Italy has index number 3\n"
     ]
    }
   ],
   "source": [
    "#69\n",
    "country_tuple = (\"Korea\", \"Vietnam\", \"USA\", \"Italy\", \"France\")\n",
    "print(country_tuple)\n",
    "print()\n",
    "country = input(\"please enter one of the countries from above: \")\n",
    "print(country, \"has index number\", country_tuple.index(country))"
   ]
  },
  {
   "cell_type": "code",
   "execution_count": 3,
   "id": "4745b514",
   "metadata": {},
   "outputs": [
    {
     "name": "stdout",
     "output_type": "stream",
     "text": [
      "('Korea', 'Vietnam', 'USA', 'Italy', 'France')\n",
      "\n",
      "please enter one of the countries from above: Vietnam\n",
      "Vietnam has index number 1\n",
      "\n",
      "Enter a number between 0 and 4: 2\n",
      "USA\n"
     ]
    }
   ],
   "source": [
    "#70\n",
    "country_tuple = (\"Korea\", \"Vietnam\", \"USA\", \"Italy\", \"France\")\n",
    "print(country_tuple)\n",
    "print()\n",
    "country = input(\"please enter one of the countries from above: \")\n",
    "print(country, \"has index number\", country_tuple.index(country))\n",
    "print()\n",
    "\n",
    "num = int(input(\"Enter a number between 0 and 4: \"))\n",
    "print(country_tuple[num])"
   ]
  },
  {
   "cell_type": "code",
   "execution_count": 5,
   "id": "7a51155c",
   "metadata": {},
   "outputs": [
    {
     "name": "stdout",
     "output_type": "stream",
     "text": [
      "Enter a name of your favorite sport: volleyball\n",
      "['baseball', 'basketball', 'volleyball']\n"
     ]
    }
   ],
   "source": [
    "#71\n",
    "sports = [\"baseball\", \"basketball\"]\n",
    "sport = input(\"Enter a name of your favorite sport: \")\n",
    "sports.append(sport)\n",
    "print(sorted(sports))"
   ]
  },
  {
   "cell_type": "code",
   "execution_count": 7,
   "id": "5d3ba435",
   "metadata": {},
   "outputs": [
    {
     "name": "stdout",
     "output_type": "stream",
     "text": [
      "['korean', 'english', 'math', 'science', 'history', 'society']\n",
      "Enter a subject you don't like from above: history\n",
      "\n",
      "['korean', 'english', 'math', 'science', 'society']\n"
     ]
    }
   ],
   "source": [
    "#72\n",
    "subjects = [\"korean\", \"english\", \"math\", \"science\", \"history\", \"society\"]\n",
    "print(subjects)\n",
    "\n",
    "sub_hate = input(\"Enter a subject you don't like from above: \")\n",
    "subjects.remove(sub_hate)\n",
    "print()\n",
    "print(subjects)"
   ]
  },
  {
   "cell_type": "code",
   "execution_count": 12,
   "id": "b12476ff",
   "metadata": {},
   "outputs": [
    {
     "name": "stdout",
     "output_type": "stream",
     "text": [
      "Enter a name of your favorite food: hamburger\n",
      "Enter a name of your favorite food: pizza\n",
      "Enter a name of your favorite food: sushi\n",
      "Enter a name of your favorite food: kimchi\n",
      "{1: 'hamburger', 2: 'pizza', 3: 'sushi', 4: 'kimchi'}\n",
      "\n",
      "Enter a number of food you want to delete: 1\n",
      "['kimchi', 'pizza', 'sushi']\n"
     ]
    }
   ],
   "source": [
    "#73\n",
    "foodlist_fav = {}\n",
    "for i in range(4):\n",
    "    food = input(\"Enter a name of your favorite food: \")\n",
    "    foodlist_fav[i+1] = food\n",
    "print(foodlist_fav)\n",
    "print()\n",
    "\n",
    "food_del = int(input(\"Enter a number of food you want to delete: \"))\n",
    "del foodlist_fav[food_del]\n",
    "print(sorted(foodlist_fav.values()))"
   ]
  },
  {
   "cell_type": "code",
   "execution_count": 13,
   "id": "b853ca56",
   "metadata": {},
   "outputs": [
    {
     "name": "stdout",
     "output_type": "stream",
     "text": [
      "Enter a starting number 0~4: 1\n",
      "Enter a ending number 5-9: 8\n",
      "['orange', 'yellow', 'green', 'blue', 'purple', 'pink', 'brown']\n"
     ]
    }
   ],
   "source": [
    "#74\n",
    "colors = ['red', 'orange', 'yellow', 'green', 'blue', 'purple', 'pink', 'brown', 'white', 'black']\n",
    "start_num = int(input(\"Enter a starting number 0~4: \"))\n",
    "end_num = int(input(\"Enter a ending number 5-9: \"))\n",
    "print(colors[start_num:end_num])"
   ]
  },
  {
   "cell_type": "code",
   "execution_count": 15,
   "id": "b837ea99",
   "metadata": {},
   "outputs": [
    {
     "name": "stdout",
     "output_type": "stream",
     "text": [
      "123\n",
      "234\n",
      "345\n",
      "456\n",
      "\n",
      "Enter a number: 123\n",
      "0\n"
     ]
    }
   ],
   "source": [
    "#75\n",
    "numlist = [123, 234, 345, 456]\n",
    "for num in numlist:\n",
    "    print(num)\n",
    "print()\n",
    "\n",
    "newnum = int(input(\"Enter a number: \"))\n",
    "if newnum in numlist:\n",
    "    print(numlist.index(newnum))\n",
    "else:\n",
    "    print(\"That is not in the list\")"
   ]
  },
  {
   "cell_type": "code",
   "execution_count": 18,
   "id": "ece13977",
   "metadata": {},
   "outputs": [
    {
     "name": "stdout",
     "output_type": "stream",
     "text": [
      "Enter a name of person you want to invite to the party: jamie\n",
      "Enter a name of person you want to invite to the party: lisa\n",
      "Enter a name of person you want to invite to the party: mac\n",
      "Do you want to invite more? (y/n): y\n",
      "Enter a another name: romand\n",
      "Do you want to invite more? (y/n): y\n",
      "Enter a another name: 3ce\n",
      "Do you want to invite more? (y/n): n\n",
      "You invited  5 people\n"
     ]
    }
   ],
   "source": [
    "#76\n",
    "invite_list = []\n",
    "for i in range(3):\n",
    "    name = input(\"Enter a name of person you want to invite to the party: \")\n",
    "    invite_list.append(name)\n",
    "    \n",
    "more = input(\"Do you want to invite more? (y/n): \")\n",
    "while more != 'n':\n",
    "    nw_name = input(\"Enter a another name: \")\n",
    "    invite_list.append(nw_name)\n",
    "    more = input(\"Do you want to invite more? (y/n): \")\n",
    "\n",
    "print(\"You invited \", len(invite_list), \"people\")"
   ]
  },
  {
   "cell_type": "code",
   "execution_count": 21,
   "id": "4922c014",
   "metadata": {},
   "outputs": [
    {
     "name": "stdout",
     "output_type": "stream",
     "text": [
      "Enter a name of person you want to invite to the party: jamie\n",
      "Enter a name of person you want to invite to the party: lisa\n",
      "Enter a name of person you want to invite to the party: mac\n",
      "Do you want to invite more? (y/n): y\n",
      "Enter a another name: irene\n",
      "Do you want to invite more? (y/n): y\n",
      "Enter a another name: jenny\n",
      "Do you want to invite more? (y/n): y\n",
      "Enter a another name: joy\n",
      "Do you want to invite more? (y/n): n\n",
      "['jamie', 'lisa', 'mac', 'irene', 'jenny', 'joy']\n",
      "Enter one of the names: irene\n",
      "irene is in position 3 on the list\n",
      "Do you still want them to come? (y/n): n\n",
      "['jamie', 'lisa', 'mac', 'jenny', 'joy']\n"
     ]
    }
   ],
   "source": [
    "#77\n",
    "invite_list = []\n",
    "for i in range(3):\n",
    "    name = input(\"Enter a name of person you want to invite to the party: \")\n",
    "    invite_list.append(name)\n",
    "    \n",
    "more = input(\"Do you want to invite more? (y/n): \")\n",
    "while more != 'n':\n",
    "    nw_name = input(\"Enter a another name: \")\n",
    "    invite_list.append(nw_name)\n",
    "    more = input(\"Do you want to invite more? (y/n): \")\n",
    "\n",
    "print(invite_list)\n",
    "nameagain = input(\"Enter one of the names: \")\n",
    "print(nameagain, \"is in position\", invite_list.index(nameagain), \"on the list\")\n",
    "stillcome = input(\"Do you still want them to come? (y/n): \")\n",
    "\n",
    "if stillcome == 'n':\n",
    "    invite_list.remove(nameagain)\n",
    "\n",
    "print(invite_list)"
   ]
  },
  {
   "cell_type": "code",
   "execution_count": 22,
   "id": "52968e67",
   "metadata": {},
   "outputs": [
    {
     "name": "stdout",
     "output_type": "stream",
     "text": [
      "RunningMan\n",
      "Infinite Challenge\n",
      "Crime Scene\n",
      "The Genius\n",
      "Enter another tv show: YouQuiz Show\n",
      "Enter a number 0~3: 2\n",
      "['RunningMan', 'Infinite Challenge', 'YouQuiz Show', 'Crime Scene', 'The Genius']\n"
     ]
    }
   ],
   "source": [
    "#78\n",
    "tvshows = ['RunningMan', 'Infinite Challenge', 'Crime Scene', 'The Genius']\n",
    "for show in tvshows:\n",
    "    print(show)\n",
    "    \n",
    "anothershow = input(\"Enter another tv show: \")\n",
    "indexnum = int(input(\"Enter a number 0~3: \"))\n",
    "tvshows.insert(indexnum, anothershow)\n",
    "\n",
    "print(tvshows)"
   ]
  },
  {
   "cell_type": "code",
   "execution_count": 24,
   "id": "53260658",
   "metadata": {},
   "outputs": [
    {
     "name": "stdout",
     "output_type": "stream",
     "text": [
      "Enter a number: 11\n",
      "[11]\n",
      "Enter a number: 22\n",
      "[11, 22]\n",
      "Enter a number: 33\n",
      "[11, 22, 33]\n",
      "Do you want to save third number? (y/n): n\n",
      "[11, 22]\n"
     ]
    }
   ],
   "source": [
    "#79\n",
    "nums = []\n",
    "for i in range(3):\n",
    "    usernum = int(input(\"Enter a number: \"))\n",
    "    nums.append(usernum)\n",
    "    print(nums)\n",
    "\n",
    "saveornot = input(\"Do you want to save third number? (y/n): \")\n",
    "if saveornot == 'n':\n",
    "    nums.pop(-1)\n",
    "print(nums)"
   ]
  },
  {
   "cell_type": "code",
   "execution_count": null,
   "id": "d610407a",
   "metadata": {},
   "outputs": [],
   "source": []
  }
 ],
 "metadata": {
  "kernelspec": {
   "display_name": "Python 3",
   "language": "python",
   "name": "python3"
  },
  "language_info": {
   "codemirror_mode": {
    "name": "ipython",
    "version": 3
   },
   "file_extension": ".py",
   "mimetype": "text/x-python",
   "name": "python",
   "nbconvert_exporter": "python",
   "pygments_lexer": "ipython3",
   "version": "3.8.8"
  }
 },
 "nbformat": 4,
 "nbformat_minor": 5
}
