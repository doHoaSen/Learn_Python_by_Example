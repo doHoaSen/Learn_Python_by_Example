{
 "cells": [
  {
   "cell_type": "code",
   "execution_count": 2,
   "id": "ef051dac",
   "metadata": {},
   "outputs": [],
   "source": [
    "#139\n",
    "import sqlite3\n",
    "\n",
    "with sqlite3.connect(\"Phonebook.db\") as db:\n",
    "    cursor = db.cursor()\n",
    "    \n",
    "cursor.execute(\"\"\"CREATE TABLE IF NOT EXISTS Names(\n",
    "id integer PRIMARY KEY,\n",
    "firstname text,\n",
    "surname text,\n",
    "phonenumber text); \"\"\")\n",
    "\n",
    "cursor.execute(\"\"\"INSERT INTO Names(id, firstname, surname, phonenumber)\n",
    "VALUES(\"1\", \"Simon\", \"Howels\", \"01223 349752\")\"\"\")\n",
    "db.commit()\n",
    "\n",
    "cursor.execute(\"\"\"INSERT INTO Names(id, firstname, surname, phonenumber)\n",
    "VALUES(\"2\", \"Karen\", \"Phillips\", \"01954 295773\")\"\"\")\n",
    "db.commit()\n",
    "\n",
    "cursor.execute(\"\"\"INSERT INTO Names(id, firstname, surname, phonenumber)\n",
    "VALUES(\"3\", \"Darren\", \"Smith\", \"01583 749012\")\"\"\")\n",
    "db.commit()\n",
    "\n",
    "cursor.execute(\"\"\"INSERT INTO Names(id, firstname, surname, phonenumber)\n",
    "VALUES(\"4\", \"Anne\", \"Jones\", \"01323 567322\")\"\"\")\n",
    "db.commit()\n",
    "\n",
    "cursor.execute(\"\"\"INSERT INTO Names(id, firstname, surname, phonenumber)\n",
    "VALUES(\"5\", \"Mark\", \"Smith\", \"01223 855534\")\"\"\")\n",
    "db.commit()\n",
    "\n",
    "db.close()"
   ]
  },
  {
   "cell_type": "code",
   "execution_count": null,
   "id": "6e08f901",
   "metadata": {},
   "outputs": [],
   "source": []
  }
 ],
 "metadata": {
  "kernelspec": {
   "display_name": "Python 3",
   "language": "python",
   "name": "python3"
  },
  "language_info": {
   "codemirror_mode": {
    "name": "ipython",
    "version": 3
   },
   "file_extension": ".py",
   "mimetype": "text/x-python",
   "name": "python",
   "nbconvert_exporter": "python",
   "pygments_lexer": "ipython3",
   "version": "3.8.8"
  }
 },
 "nbformat": 4,
 "nbformat_minor": 5
}
