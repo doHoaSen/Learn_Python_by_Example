{
 "cells": [
  {
   "cell_type": "code",
   "execution_count": 2,
   "id": "3d111db2",
   "metadata": {},
   "outputs": [
    {
     "name": "stdout",
     "output_type": "stream",
     "text": [
      "Please enter your name: Amelia\n",
      "Hello Amelia\n"
     ]
    }
   ],
   "source": [
    "#1\n",
    "name = input(\"Please enter your name: \")\n",
    "print(\"Hello\", name)"
   ]
  },
  {
   "cell_type": "code",
   "execution_count": 4,
   "id": "9dd1648f",
   "metadata": {},
   "outputs": [
    {
     "name": "stdout",
     "output_type": "stream",
     "text": [
      "Please enter your first name: Kang\n",
      "Hello Amelia Kang\n"
     ]
    }
   ],
   "source": [
    "#2\n",
    "firstname = input(\"Please enter your first name: \")\n",
    "print(\"Hello\", name, firstname)"
   ]
  },
  {
   "cell_type": "code",
   "execution_count": 6,
   "id": "87db2888",
   "metadata": {},
   "outputs": [
    {
     "name": "stdout",
     "output_type": "stream",
     "text": [
      "What do you call a bear with no teeth? \n",
      "A gummy bear!\n"
     ]
    }
   ],
   "source": [
    "#3\n",
    "print(\"What do you call a bear with no teeth? \\nA gummy bear!\")"
   ]
  },
  {
   "cell_type": "code",
   "execution_count": 7,
   "id": "114c023b",
   "metadata": {},
   "outputs": [
    {
     "name": "stdout",
     "output_type": "stream",
     "text": [
      "enter the num1: 5\n",
      "enter the num2: 3\n",
      "The total is  8\n"
     ]
    }
   ],
   "source": [
    "#4\n",
    "num1 = int(input(\"enter the num1: \"))\n",
    "num2 = int(input(\"enter the num2: \"))\n",
    "add_num = num1 + num2\n",
    "print(\"The total is \", add_num)"
   ]
  },
  {
   "cell_type": "code",
   "execution_count": 8,
   "id": "999a38be",
   "metadata": {},
   "outputs": [
    {
     "name": "stdout",
     "output_type": "stream",
     "text": [
      "num1: 4\n",
      "num2: 5\n",
      "num3: 6\n",
      "The answer is  54\n"
     ]
    }
   ],
   "source": [
    "#5\n",
    "num1 = int(input(\"num1: \"))\n",
    "num2 = int(input(\"num2: \"))\n",
    "num3 = int(input(\"num3: \"))\n",
    "add_num = num1 + num2\n",
    "total = add_num * num3\n",
    "print(\"The answer is \", total)"
   ]
  },
  {
   "cell_type": "code",
   "execution_count": 9,
   "id": "ee158113",
   "metadata": {},
   "outputs": [
    {
     "name": "stdout",
     "output_type": "stream",
     "text": [
      "Enter the number of slices of pizza first you had: 9\n",
      "Enter the number of slices of pizza you ate: 4\n",
      "You have 5 slices remaining\n"
     ]
    }
   ],
   "source": [
    "#6\n",
    "first_pizza = int(input(\"Enter the number of slices of pizza first you had: \"))\n",
    "eat_pizza = int(input(\"Enter the number of slices of pizza you ate: \"))\n",
    "left_pizza = first_pizza - eat_pizza\n",
    "print(\"You have\", left_pizza, \"slices remaining\")"
   ]
  },
  {
   "cell_type": "code",
   "execution_count": 11,
   "id": "84b9a034",
   "metadata": {},
   "outputs": [
    {
     "name": "stdout",
     "output_type": "stream",
     "text": [
      "Enter your name: Amelia\n",
      "Enter your age: 24\n",
      "Amelia next birthday you will be  25\n"
     ]
    }
   ],
   "source": [
    "#7\n",
    "name = input(\"Enter your name: \")\n",
    "age = int(input(\"Enter your age: \"))\n",
    "newAge = age +1\n",
    "print(name, \"next birthday you will be \", newAge)"
   ]
  },
  {
   "cell_type": "code",
   "execution_count": 13,
   "id": "408dfcc7",
   "metadata": {},
   "outputs": [
    {
     "name": "stdout",
     "output_type": "stream",
     "text": [
      "Enter total price: 15000\n",
      "Enter number of people: 5\n",
      "Each person have to pay  3000.0 won\n"
     ]
    }
   ],
   "source": [
    "#8\n",
    "totalPrice = int(input(\"Enter total price: \"))\n",
    "numPeople = int(input(\"Enter number of people: \"))\n",
    "dutch = totalPrice / numPeople\n",
    "print(\"Each person have to pay \", dutch, \"won\")"
   ]
  },
  {
   "cell_type": "code",
   "execution_count": 14,
   "id": "66fede26",
   "metadata": {},
   "outputs": [
    {
     "name": "stdout",
     "output_type": "stream",
     "text": [
      "Enter the number of days: 7\n",
      "In 7 days there are ... \n",
      "168 hours\n",
      "10080 minutes\n",
      "604800 seconds\n"
     ]
    }
   ],
   "source": [
    "#9\n",
    "day = int(input(\"Enter the number of days: \"))\n",
    "hours = day * 24\n",
    "minutes = hours * 60\n",
    "seconds = minutes * 60\n",
    "\n",
    "print(\"In\", day, \"days there are ... \")\n",
    "print(hours, \"hours\")\n",
    "print(minutes, \"minutes\")\n",
    "print(seconds, \"seconds\")"
   ]
  },
  {
   "cell_type": "code",
   "execution_count": 17,
   "id": "e341f17c",
   "metadata": {},
   "outputs": [
    {
     "name": "stdout",
     "output_type": "stream",
     "text": [
      "Enter your weight (kg): 54\n",
      "Your weight is  119.016 lb\n"
     ]
    }
   ],
   "source": [
    "#10\n",
    "weight = int(input(\"Enter your weight (kg): \"))\n",
    "weightToPound = weight * 2.204\n",
    "print(\"Your weight is \", weightToPound, \"lb\")"
   ]
  },
  {
   "cell_type": "code",
   "execution_count": 19,
   "id": "549cfdc9",
   "metadata": {},
   "outputs": [
    {
     "name": "stdout",
     "output_type": "stream",
     "text": [
      "Enter a number larger than 100: 150\n",
      "Enter a number smaller than 10: 4\n",
      "4 goes into  150 37 times\n"
     ]
    }
   ],
   "source": [
    "#11\n",
    "num1 = int(input(\"Enter a number larger than 100: \"))\n",
    "num2 = int(input(\"Enter a number smaller than 10: \"))\n",
    "ans = num1 // num2\n",
    "\n",
    "print(num2, \"goes into \", num1, ans, \"times\")"
   ]
  },
  {
   "cell_type": "code",
   "execution_count": 20,
   "id": "de252eb6",
   "metadata": {},
   "outputs": [
    {
     "name": "stdout",
     "output_type": "stream",
     "text": [
      "Enter first num: 4\n",
      "Enter second num: 6\n",
      "4 6\n"
     ]
    }
   ],
   "source": [
    "#12\n",
    "num1 = int(input(\"Enter first num: \"))\n",
    "num2 = int(input(\"Enter second num: \"))\n",
    "\n",
    "if num1 > num2:\n",
    "    print(num2, num1)\n",
    "else:\n",
    "    print(num1, num2)"
   ]
  },
  {
   "cell_type": "code",
   "execution_count": 1,
   "id": "42c0b883",
   "metadata": {},
   "outputs": [
    {
     "name": "stdout",
     "output_type": "stream",
     "text": [
      "Enter a number smaller than 20: 14\n",
      "Thank you\n"
     ]
    }
   ],
   "source": [
    "#13\n",
    "num = int(input(\"Enter a number smaller than 20: \"))\n",
    "if num >= 20:\n",
    "    print(\"Too high\")\n",
    "else:\n",
    "    print(\"Thank you\")"
   ]
  },
  {
   "cell_type": "code",
   "execution_count": 3,
   "id": "0514dd7b",
   "metadata": {},
   "outputs": [
    {
     "name": "stdout",
     "output_type": "stream",
     "text": [
      "Enter the number 10<=n<=20: 9\n",
      "Incorrect answer\n"
     ]
    }
   ],
   "source": [
    "#14\n",
    "num = int(input(\"Enter the number 10<=n<=20: \"))\n",
    "if 10 <= num <= 20:\n",
    "    print(\"Thank you\")\n",
    "else:\n",
    "    print(\"Incorrect answer\")\n",
    "    "
   ]
  },
  {
   "cell_type": "code",
   "execution_count": 4,
   "id": "79730a91",
   "metadata": {},
   "outputs": [
    {
     "name": "stdout",
     "output_type": "stream",
     "text": [
      "Enter the color you like: RED\n",
      "I like red too\n"
     ]
    }
   ],
   "source": [
    "#15\n",
    "color = input(\"Enter the color you like: \")\n",
    "if color == 'red' or color == 'Red' or color == 'RED':\n",
    "    print(\"I like red too\")\n",
    "else:\n",
    "    print(\"I don't like that colour, I prefer red\")"
   ]
  },
  {
   "cell_type": "code",
   "execution_count": 7,
   "id": "23889cde",
   "metadata": {},
   "outputs": [
    {
     "name": "stdout",
     "output_type": "stream",
     "text": [
      "Is it raining? YES\n",
      "Is it windy? no\n",
      "Take an umbrella\n"
     ]
    }
   ],
   "source": [
    "#16\n",
    "RainOrNot = input(\"Is it raining? \")\n",
    "RainOrNot = str.lower(RainOrNot)    #change all letters in smaller One\n",
    "\n",
    "if RainOrNot == 'yes':\n",
    "    WindOrNot = input(\"Is it windy? \")\n",
    "    if WindOrNot == 'yes':\n",
    "        print(\"It is too windy for an umbrella\")\n",
    "    else:\n",
    "        print(\"Take an umbrella\")\n",
    "else:\n",
    "    print(\"Enjoy your day\")\n"
   ]
  },
  {
   "cell_type": "code",
   "execution_count": 9,
   "id": "12c19119",
   "metadata": {},
   "outputs": [
    {
     "name": "stdout",
     "output_type": "stream",
     "text": [
      "Enter your age: 7\n",
      "You can go Trick-or-Treating\n"
     ]
    }
   ],
   "source": [
    "#17\n",
    "age = int(input(\"Enter your age: \"))\n",
    "\n",
    "if age >= 18:\n",
    "    print(\"You can vote\")\n",
    "elif age == 17:\n",
    "    print(\"You can learn to drive\")\n",
    "elif age == 16:\n",
    "    print(\"You can buy a lottery ticket\")\n",
    "else:\n",
    "    print(\"You can go Trick-or-Treating\")"
   ]
  },
  {
   "cell_type": "code",
   "execution_count": 10,
   "id": "4ec6edb9",
   "metadata": {},
   "outputs": [
    {
     "name": "stdout",
     "output_type": "stream",
     "text": [
      "Enter the number16\n",
      "Correct\n"
     ]
    }
   ],
   "source": [
    "#18\n",
    "num = int(input(\"Enter the number\"))\n",
    "\n",
    "if num < 10:\n",
    "    print(\"Too low\")\n",
    "elif 10 < num < 20:\n",
    "    print(\"Correct\")\n",
    "else:\n",
    "    print(\"Too high\")"
   ]
  },
  {
   "cell_type": "code",
   "execution_count": 12,
   "id": "be01bf24",
   "metadata": {},
   "outputs": [
    {
     "name": "stdout",
     "output_type": "stream",
     "text": [
      "Enter the number 1 or 2 or 3: 2\n",
      "Well done\n"
     ]
    }
   ],
   "source": [
    "#19\n",
    "num = int(input(\"Enter the number 1 or 2 or 3: \"))\n",
    "\n",
    "if num == 1:\n",
    "    print(\"Thank you\")\n",
    "elif num == 2:\n",
    "    print(\"Well done\")\n",
    "else:\n",
    "    print(\"Error message\")"
   ]
  },
  {
   "cell_type": "code",
   "execution_count": 1,
   "id": "0f1e7549",
   "metadata": {},
   "outputs": [
    {
     "name": "stdout",
     "output_type": "stream",
     "text": [
      "Enter your name: Amelia\n",
      "6\n"
     ]
    }
   ],
   "source": [
    "#20\n",
    "name = input(\"Enter your name: \")\n",
    "print(len(name))"
   ]
  },
  {
   "cell_type": "code",
   "execution_count": 2,
   "id": "e25a8257",
   "metadata": {},
   "outputs": [
    {
     "name": "stdout",
     "output_type": "stream",
     "text": [
      "Enter your name:Amelia\n",
      "Enter your first name: Kang\n",
      "11\n"
     ]
    }
   ],
   "source": [
    "#21\n",
    "name = input(\"Enter your name:\")\n",
    "firstname = input(\"Enter your first name: \")\n",
    "fullname = name + \" \" + firstname\n",
    "length = len(fullname)\n",
    "print(length)"
   ]
  },
  {
   "cell_type": "code",
   "execution_count": 3,
   "id": "e5603d3d",
   "metadata": {},
   "outputs": [
    {
     "name": "stdout",
     "output_type": "stream",
     "text": [
      "Enter your first name in lowercase: kang\n",
      "Enter your surname in lowercase: amelia\n",
      "Kang Amelia\n"
     ]
    }
   ],
   "source": [
    "#22\n",
    "firstname = input(\"Enter your first name in lowercase: \")\n",
    "surname = input(\"Enter your surname in lowercase: \")\n",
    "firstname = firstname.title()\n",
    "surname = surname.title()\n",
    "fullname = firstname + \" \" + surname\n",
    "print(fullname)"
   ]
  },
  {
   "cell_type": "code",
   "execution_count": 4,
   "id": "cc4316d4",
   "metadata": {},
   "outputs": [
    {
     "name": "stdout",
     "output_type": "stream",
     "text": [
      "Enter the first line of a nursery ryhme: Good night my baby\n",
      "This has  18  letters in it\n",
      "Enter a starting number: 2\n",
      "Enter an end number: 7\n",
      "od ni\n"
     ]
    }
   ],
   "source": [
    "#23\n",
    "phrase = input(\"Enter the first line of a nursery ryhme: \")\n",
    "length = len(phrase)\n",
    "print(\"This has \", length, \" letters in it\")\n",
    "\n",
    "start = int(input(\"Enter a starting number: \"))\n",
    "end = int(input(\"Enter an end number: \"))\n",
    "part = phrase[start:end]\n",
    "print(part)\n"
   ]
  },
  {
   "cell_type": "code",
   "execution_count": 6,
   "id": "e01232ac",
   "metadata": {},
   "outputs": [
    {
     "name": "stdout",
     "output_type": "stream",
     "text": [
      "Enter any word: apple\n",
      "APPLE\n"
     ]
    }
   ],
   "source": [
    "#24\n",
    "word = input(\"Enter any word: \")\n",
    "word = word.upper()\n",
    "print(word)"
   ]
  },
  {
   "cell_type": "code",
   "execution_count": 7,
   "id": "1be23481",
   "metadata": {},
   "outputs": [
    {
     "name": "stdout",
     "output_type": "stream",
     "text": [
      "Enter your name: Amelia\n",
      "amelia\n"
     ]
    }
   ],
   "source": [
    "#25\n",
    "name = input(\"Enter your name: \")\n",
    "if len(name) < 5:\n",
    "    firstname = input(\"Enter your first name: \")\n",
    "    fullname = name + firstname\n",
    "    fullname = fullname.upper()\n",
    "    print(fullname)\n",
    "else:\n",
    "    print(name.lower())"
   ]
  },
  {
   "cell_type": "code",
   "execution_count": 8,
   "id": "6ddc2574",
   "metadata": {},
   "outputs": [
    {
     "name": "stdout",
     "output_type": "stream",
     "text": [
      "Enter a word: pig\n",
      "igpay\n"
     ]
    }
   ],
   "source": [
    "#26\n",
    "word = input(\"Enter a word: \")\n",
    "if word[0] == 'a' or word[0] == 'e' or word[0] == 'i' or word[0] == 'o' or word[0] == 'u':\n",
    "    word = word + \"way\"\n",
    "    print(word.lower())\n",
    "else:\n",
    "    firstLetter = word[0]\n",
    "    rest = word[1:]\n",
    "    word = rest + firstLetter + \"ay\"\n",
    "    print(word.lower())"
   ]
  },
  {
   "cell_type": "code",
   "execution_count": 9,
   "id": "48c72c9d",
   "metadata": {},
   "outputs": [
    {
     "name": "stdout",
     "output_type": "stream",
     "text": [
      "Enter number with lots of decimal places: 5.12345\n",
      "10.2469\n"
     ]
    }
   ],
   "source": [
    "#27\n",
    "num = float(input(\"Enter number with lots of decimal places: \"))\n",
    "print(num * 2)"
   ]
  },
  {
   "cell_type": "code",
   "execution_count": 10,
   "id": "ba22f6c6",
   "metadata": {},
   "outputs": [
    {
     "name": "stdout",
     "output_type": "stream",
     "text": [
      "Enter number with lots of decimal places: 5.12345\n",
      "10.2469\n",
      "10.25\n"
     ]
    }
   ],
   "source": [
    "#28\n",
    "num = float(input(\"Enter number with lots of decimal places: \"))\n",
    "ans = num * 2\n",
    "print(ans)\n",
    "print(round(ans, 2))"
   ]
  },
  {
   "cell_type": "code",
   "execution_count": 11,
   "id": "76bfc27f",
   "metadata": {},
   "outputs": [
    {
     "name": "stdout",
     "output_type": "stream",
     "text": [
      "Enter a number over 500: 540\n",
      "23.24\n"
     ]
    }
   ],
   "source": [
    "#29\n",
    "import math \n",
    "\n",
    "num = int(input(\"Enter a number over 500: \"))\n",
    "ans = math.sqrt(num)\n",
    "print(round(ans, 2))"
   ]
  },
  {
   "cell_type": "code",
   "execution_count": 12,
   "id": "02aac7e9",
   "metadata": {},
   "outputs": [
    {
     "name": "stdout",
     "output_type": "stream",
     "text": [
      "3.14159\n"
     ]
    }
   ],
   "source": [
    "#30\n",
    "import math\n",
    "print(round(math.pi, 5))"
   ]
  },
  {
   "cell_type": "code",
   "execution_count": 13,
   "id": "870ad2f6",
   "metadata": {},
   "outputs": [
    {
     "name": "stdout",
     "output_type": "stream",
     "text": [
      "Enter the radius of the circle: 3\n",
      "28.274333882308138\n"
     ]
    }
   ],
   "source": [
    "#31\n",
    "import math\n",
    "\n",
    "r = int(input(\"Enter the radius of the circle: \"))\n",
    "area = math.pi * (r ** 2)\n",
    "print(area)"
   ]
  },
  {
   "cell_type": "code",
   "execution_count": 14,
   "id": "5767bbef",
   "metadata": {},
   "outputs": [
    {
     "name": "stdout",
     "output_type": "stream",
     "text": [
      "Enter the radius of the circle: 5\n",
      "Enter depth: 3\n",
      "235.619\n"
     ]
    }
   ],
   "source": [
    "#32\n",
    "import math\n",
    "\n",
    "radius = int(input(\"Enter the radius of the circle: \"))\n",
    "depth = int(input(\"Enter depth: \"))\n",
    "area = math.pi * (radius ** 2)\n",
    "\n",
    "volume = area * depth\n",
    "print(round(volume, 3))"
   ]
  },
  {
   "cell_type": "code",
   "execution_count": 16,
   "id": "d708c5c1",
   "metadata": {},
   "outputs": [
    {
     "name": "stdout",
     "output_type": "stream",
     "text": [
      "Enter the first number: 7\n",
      "Enter the second number: 2\n",
      "7 is divided by 2 is 3 with 1 remaining\n"
     ]
    }
   ],
   "source": [
    "#33\n",
    "num1 = int(input(\"Enter the first number: \"))\n",
    "num2 = int(input(\"Enter the second number: \"))\n",
    "ans1 = num1 // num2\n",
    "ans2 = num1 % num2\n",
    "\n",
    "print(\"{0} is divided by {1} is {2} with {3} remaining\".format(num1, num2, ans1, ans2))"
   ]
  },
  {
   "cell_type": "code",
   "execution_count": 20,
   "id": "9c87b5bd",
   "metadata": {},
   "outputs": [
    {
     "name": "stdout",
     "output_type": "stream",
     "text": [
      "1) Square \n",
      "2) Triangle\n",
      "Enter a number: 3\n",
      "Please enter the correct number again\n"
     ]
    }
   ],
   "source": [
    "#34\n",
    "print(\"1) Square \\n2) Triangle\")\n",
    "number = int(input(\"Enter a number: \"))\n",
    "\n",
    "if number == 1:\n",
    "    line = int(input(\"Enter the length of one side: \"))\n",
    "    area = line * line\n",
    "    print(\"Area of the square is \",area)\n",
    "elif number == 2:\n",
    "    line = int(input(\"Enter the length of the base: \"))\n",
    "    height = int(input(\"Enter the length of the height: \"))\n",
    "    area = (line * height) / 2\n",
    "    print(\"Area of the triangle is \",area)\n",
    "    \n",
    "else:\n",
    "    print(\"Please enter the correct number again\")"
   ]
  },
  {
   "cell_type": "code",
   "execution_count": null,
   "id": "5f6a34d4",
   "metadata": {},
   "outputs": [],
   "source": []
  }
 ],
 "metadata": {
  "kernelspec": {
   "display_name": "Python 3",
   "language": "python",
   "name": "python3"
  },
  "language_info": {
   "codemirror_mode": {
    "name": "ipython",
    "version": 3
   },
   "file_extension": ".py",
   "mimetype": "text/x-python",
   "name": "python",
   "nbconvert_exporter": "python",
   "pygments_lexer": "ipython3",
   "version": "3.8.8"
  }
 },
 "nbformat": 4,
 "nbformat_minor": 5
}
