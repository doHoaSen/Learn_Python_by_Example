{
 "cells": [
  {
   "cell_type": "markdown",
   "id": "d8a70033",
   "metadata": {},
   "source": [
    "# 텍스트 파일 읽기와 쓰기\n",
    "\n",
    "- w : 쓰기\n",
    "\n",
    "- r : 읽기\n",
    "\n",
    "- a : 추가하기\n",
    "\n",
    "- 데이터의 일부만 제거하거나 변경하는 것이 쉽지 않음\n",
    "\n"
   ]
  },
  {
   "cell_type": "code",
   "execution_count": 1,
   "id": "ce635c44",
   "metadata": {},
   "outputs": [],
   "source": [
    "#105\n",
    "#새로운 파일 생성, 한 줄에 쉼표 다섯 개로 구분된 숫자 추가\n",
    "\n",
    "f = open(\"Numbers.txt\", \"w\")\n",
    "f.write('4, ')\n",
    "f.write('6, ')\n",
    "f.write('10, ')\n",
    "f.write('8, ')\n",
    "f.write('5, ')\n",
    "f.close()"
   ]
  },
  {
   "cell_type": "code",
   "execution_count": 2,
   "id": "c64ce2ee",
   "metadata": {},
   "outputs": [],
   "source": [
    "#106\n",
    "#다섯 명의 이름을 한 줄에 하나씩 문서에 추가\n",
    "\n",
    "f = open(\"Names.txt\", \"w\")\n",
    "f.write(\"Bob\\n\")\n",
    "f.write(\"Tom\\n\")\n",
    "f.write(\"Gemma\\n\")\n",
    "f.write(\"Sarah\\n\")\n",
    "f.write(\"Timothy\\n\")\n",
    "f.close()"
   ]
  },
  {
   "cell_type": "code",
   "execution_count": 3,
   "id": "2b43926e",
   "metadata": {},
   "outputs": [
    {
     "name": "stdout",
     "output_type": "stream",
     "text": [
      "Bob\n",
      "Tom\n",
      "Gemma\n",
      "Sarah\n",
      "Timothy\n",
      "\n"
     ]
    }
   ],
   "source": [
    "#107\n",
    "f = open(\"Names.txt\", \"r\")\n",
    "print(f.read())\n",
    "f.close()"
   ]
  },
  {
   "cell_type": "code",
   "execution_count": null,
   "id": "0765aefc",
   "metadata": {},
   "outputs": [],
   "source": []
  }
 ],
 "metadata": {
  "kernelspec": {
   "display_name": "Python 3",
   "language": "python",
   "name": "python3"
  },
  "language_info": {
   "codemirror_mode": {
    "name": "ipython",
    "version": 3
   },
   "file_extension": ".py",
   "mimetype": "text/x-python",
   "name": "python",
   "nbconvert_exporter": "python",
   "pygments_lexer": "ipython3",
   "version": "3.8.8"
  }
 },
 "nbformat": 4,
 "nbformat_minor": 5
}
