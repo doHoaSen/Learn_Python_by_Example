{
 "cells": [
  {
   "cell_type": "markdown",
   "id": "84a46e5d",
   "metadata": {},
   "source": [
    "# Random\n",
    "\n",
    "import random\n",
    "\n",
    "num = random.random()\n",
    "\n",
    "num = random.randint(0, 9)     #include 9\n",
    "\n",
    "num = random.randrange(0,100,5)    #values: 0, 5, 10, ..., 100\n",
    "\n",
    "color = random.choice([\"red\", \"black\", \"green\"])    #choose one element in list"
   ]
  },
  {
   "cell_type": "code",
   "execution_count": 3,
   "id": "3e1cd443",
   "metadata": {},
   "outputs": [
    {
     "name": "stdout",
     "output_type": "stream",
     "text": [
      "81\n",
      "77\n",
      "8\n",
      "54\n",
      "1\n"
     ]
    }
   ],
   "source": [
    "#52\n",
    "import random\n",
    "\n",
    "for i in range(5):\n",
    "    num = random.randint(1, 100)\n",
    "    print(num)"
   ]
  },
  {
   "cell_type": "code",
   "execution_count": 8,
   "id": "a7ae0e9d",
   "metadata": {},
   "outputs": [
    {
     "name": "stdout",
     "output_type": "stream",
     "text": [
      "grape\n",
      "banana\n",
      "cherry\n"
     ]
    }
   ],
   "source": [
    "#53\n",
    "import random\n",
    "\n",
    "fruits = [\"apple\", \"peach\", \"cherry\", \"banana\", \"grape\"]\n",
    "for i in range(3):\n",
    "    fruit = random.choice(fruits)\n",
    "    print(fruit)"
   ]
  },
  {
   "cell_type": "code",
   "execution_count": 4,
   "id": "84afbf39",
   "metadata": {},
   "outputs": [
    {
     "name": "stdout",
     "output_type": "stream",
     "text": [
      "Choose 'h or t: t\n",
      "Bad luck\n",
      "It was h\n"
     ]
    }
   ],
   "source": [
    "#54\n",
    "import random\n",
    "hOrt = random.choice(['h', 't'])\n",
    "userchoice = input(\"Choose 'h or t: \")\n",
    "\n",
    "if userchoice == hOrt:\n",
    "    print(\"You win\")\n",
    "else:\n",
    "    print(\"Bad luck\")\n",
    "    print(\"It was\", hOrt)"
   ]
  },
  {
   "cell_type": "code",
   "execution_count": 9,
   "id": "27528728",
   "metadata": {},
   "outputs": [
    {
     "name": "stdout",
     "output_type": "stream",
     "text": [
      "Enter a number: 2\n",
      "Too low, Try again\n",
      "Enter a number: 3\n",
      "Too low, Try again\n",
      "Enter a number: 5\n",
      "Too high, Try again\n",
      "Enter a number: 4\n",
      "Correct\n",
      "Well done\n"
     ]
    }
   ],
   "source": [
    "#55\n",
    "import random\n",
    "\n",
    "randnum = random.randint(1, 5)\n",
    "choice = True\n",
    "\n",
    "while choice:\n",
    "    usernum = int(input(\"Enter a number: \"))\n",
    "    if usernum > randnum:\n",
    "        print(\"Too high, Try again\")\n",
    "        choice = True\n",
    "    elif usernum < randnum:\n",
    "        print(\"Too low, Try again\")\n",
    "        choice = True\n",
    "    else:\n",
    "        print(\"Correct\")\n",
    "        choice = False\n",
    "print(\"Well done\")"
   ]
  },
  {
   "cell_type": "code",
   "execution_count": 14,
   "id": "a66c9154",
   "metadata": {},
   "outputs": [
    {
     "name": "stdout",
     "output_type": "stream",
     "text": [
      "Enter a number: 4\n",
      "Enter a number: 5\n",
      "Enter a number: 6\n",
      "Enter a number: 4\n",
      "Enter a number: 7\n",
      "Enter a number: 8\n",
      "Enter a number: 9\n",
      "Enter a number: 1\n",
      "Enter a number: 2\n",
      "Correct!\n"
     ]
    }
   ],
   "source": [
    "#56\n",
    "import random\n",
    "num = random.randint(1, 10)\n",
    "ans = False\n",
    "\n",
    "while ans== False:\n",
    "    usernum = int(input(\"Enter a number: \"))\n",
    "    if usernum == num:\n",
    "        print(\"Correct!\")\n",
    "        ans = True\n",
    "    else:\n",
    "        ans = False"
   ]
  },
  {
   "cell_type": "code",
   "execution_count": 16,
   "id": "4982cca6",
   "metadata": {},
   "outputs": [
    {
     "name": "stdout",
     "output_type": "stream",
     "text": [
      "Enter a number: 3\n",
      "Too low\n",
      "Enter a number: 4\n",
      "Too low\n",
      "Enter a number: 5\n",
      "Too low\n",
      "Enter a number: 6\n",
      "Too low\n",
      "Enter a number: 7\n",
      "Too low\n",
      "Enter a number: 8\n",
      "Too low\n",
      "Enter a number: 9\n",
      "Too low\n",
      "Enter a number: 10\n",
      "Correct!\n"
     ]
    }
   ],
   "source": [
    "#57\n",
    "import random\n",
    "num = random.randint(1, 10)\n",
    "ans = False\n",
    "\n",
    "while ans== False:\n",
    "    usernum = int(input(\"Enter a number: \"))\n",
    "    if usernum == num:\n",
    "        print(\"Correct!\")\n",
    "        ans = True\n",
    "    elif usernum > num:\n",
    "        print(\"Too high\")\n",
    "    else:\n",
    "        print(\"Too low\")"
   ]
  },
  {
   "cell_type": "code",
   "execution_count": 20,
   "id": "72e37686",
   "metadata": {},
   "outputs": [
    {
     "name": "stdout",
     "output_type": "stream",
     "text": [
      "45 + 92 = ?: \n",
      "Enter your answer: 137\n",
      "89 + 61 = ?: \n",
      "Enter your answer: 150\n",
      "60 + 39 = ?: \n",
      "Enter your answer: 89\n",
      "40 + 76 = ?: \n",
      "Enter your answer: 116\n",
      "14 + 4 = ?: \n",
      "Enter your answer: 18\n",
      "Well done, your score is 4\n"
     ]
    }
   ],
   "source": [
    "#58\n",
    "import random\n",
    "score = 0\n",
    "\n",
    "for i in range(5):\n",
    "    num1 = random.randint(1, 100)\n",
    "    num2 = random.randint(1, 100)\n",
    "    print(\"{} + {} = ?: \". format(num1, num2))\n",
    "    ans = num1 + num2\n",
    "    userans = int(input(\"Enter your answer: \"))\n",
    "    \n",
    "    if userans == ans:\n",
    "        score += 1\n",
    "        \n",
    "print(\"Well done, your score is\", score)"
   ]
  },
  {
   "cell_type": "code",
   "execution_count": 6,
   "id": "3d17a937",
   "metadata": {},
   "outputs": [
    {
     "name": "stdout",
     "output_type": "stream",
     "text": [
      "Choose one of red, purple, yellow, blue, green: purple\n",
      "I bet you are seeing RED right now!\n",
      "Choose one of red, purple, yellow, blue, green: red\n",
      "Well done\n"
     ]
    }
   ],
   "source": [
    "#59\n",
    "import random\n",
    "color = random.choice([\"red\", \"purple\", \"yellow\", \"blue\", \"green\"])\n",
    "ans = True\n",
    "\n",
    "while ans:\n",
    "    userchoice = input(\"Choose one of red, purple, yellow, blue, green: \")\n",
    "    userchoice = userchoice.lower()\n",
    "    \n",
    "    if userchoice == color:\n",
    "        print(\"Well done\")\n",
    "        ans = False\n",
    "        \n",
    "    else:\n",
    "        if color == \"red\":\n",
    "            print(\"I bet you are seeing RED right now!\")\n",
    "        elif color == \"purple\":\n",
    "            print(\"I like PURPLE rain!\")\n",
    "        elif color == \"yellow\":\n",
    "            print(\"Not all YELLOW stone is gold\")\n",
    "        elif color == \"blue\":\n",
    "            print(\"a BLUE moon\")\n",
    "        elif color == \"green\":\n",
    "            print(\"I bet you are GREEN with envy\")"
   ]
  },
  {
   "cell_type": "code",
   "execution_count": null,
   "id": "253d2035",
   "metadata": {},
   "outputs": [],
   "source": []
  }
 ],
 "metadata": {
  "kernelspec": {
   "display_name": "Python 3",
   "language": "python",
   "name": "python3"
  },
  "language_info": {
   "codemirror_mode": {
    "name": "ipython",
    "version": 3
   },
   "file_extension": ".py",
   "mimetype": "text/x-python",
   "name": "python",
   "nbconvert_exporter": "python",
   "pygments_lexer": "ipython3",
   "version": "3.8.8"
  }
 },
 "nbformat": 4,
 "nbformat_minor": 5
}
