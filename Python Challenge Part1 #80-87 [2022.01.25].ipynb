{
 "cells": [
  {
   "cell_type": "markdown",
   "id": "dbf9758c",
   "metadata": {},
   "source": [
    "# String\n",
    "\n",
    "- isupper()\n",
    "\n",
    "- islower()\n",
    "\n",
    "Example\n",
    "\n",
    "msg = \"Hello\" \\n\n",
    "for letter in msg: \\n\n",
    "\\t    print(letter, end = \"*\")"
   ]
  },
  {
   "cell_type": "code",
   "execution_count": 1,
   "id": "96e1ae58",
   "metadata": {},
   "outputs": [
    {
     "name": "stdout",
     "output_type": "stream",
     "text": [
      "Enter your name: Amelia\n",
      "6\n",
      "Enter your firstname: Kang\n",
      "4\n",
      "11\n"
     ]
    }
   ],
   "source": [
    "#80\n",
    "name = input(\"Enter your name: \")\n",
    "print(len(name))\n",
    "\n",
    "firstname = input(\"Enter your firstname: \")\n",
    "print(len(firstname))\n",
    "\n",
    "fullname = name + \" \" + firstname\n",
    "print(len(fullname))"
   ]
  },
  {
   "cell_type": "code",
   "execution_count": 2,
   "id": "9c71db83",
   "metadata": {},
   "outputs": [
    {
     "name": "stdout",
     "output_type": "stream",
     "text": [
      "What is your favorite subject? : Science\n",
      "S-c-i-e-n-c-e-"
     ]
    }
   ],
   "source": [
    "#81\n",
    "subject = input(\"What is your favorite subject? : \")\n",
    "for letter in subject:\n",
    "    print(letter, end= \"-\")"
   ]
  },
  {
   "cell_type": "code",
   "execution_count": 3,
   "id": "b813f973",
   "metadata": {},
   "outputs": [
    {
     "name": "stdout",
     "output_type": "stream",
     "text": [
      "Oh, I wish I'd looked after my teeth,\n",
      "Enter a starting number: 1\n",
      "Enter an end number: 6\n",
      "h, I \n"
     ]
    }
   ],
   "source": [
    "#82\n",
    "poem = \"Oh, I wish I'd looked after my teeth,\"\n",
    "print(poem)\n",
    "start = int(input(\"Enter a starting number: \"))\n",
    "end = int(input(\"Enter an end number: \"))\n",
    "print(poem[start:end])"
   ]
  },
  {
   "cell_type": "code",
   "execution_count": 5,
   "id": "56cf5a22",
   "metadata": {},
   "outputs": [
    {
     "name": "stdout",
     "output_type": "stream",
     "text": [
      "Enter a message in uppercase: Hello\n",
      "Try again\n",
      "Ednter a message in uppercase: HELLO\n",
      "Thank you\n"
     ]
    }
   ],
   "source": [
    "#83\n",
    "msg = input(\"Enter a message in uppercase: \")\n",
    "tryagain = True\n",
    "while tryagain == True:\n",
    "    if msg.isupper():\n",
    "        print(\"Thank you\")\n",
    "        tryagain = False\n",
    "    else:\n",
    "        print(\"Try again\")\n",
    "        msg = input(\"Ednter a message in uppercase: \")"
   ]
  },
  {
   "cell_type": "code",
   "execution_count": 7,
   "id": "947c5fdf",
   "metadata": {},
   "outputs": [
    {
     "name": "stdout",
     "output_type": "stream",
     "text": [
      "Enter a english word: watermellon\n",
      "WA\n"
     ]
    }
   ],
   "source": [
    "#84\n",
    "word = input(\"Enter a english word: \")\n",
    "start = word[0:2]\n",
    "print(start.upper())"
   ]
  },
  {
   "cell_type": "code",
   "execution_count": 9,
   "id": "114c6104",
   "metadata": {},
   "outputs": [
    {
     "name": "stdout",
     "output_type": "stream",
     "text": [
      "enter your name: Amelia\n",
      "3\n"
     ]
    }
   ],
   "source": [
    "#85\n",
    "name = input(\"enter your name: \")\n",
    "count = 0\n",
    "for i in name:\n",
    "    if i == 'a' or i=='e' or i == 'i' or i == 'o' or i == 'u':\n",
    "        count += 1\n",
    "print(count)"
   ]
  },
  {
   "cell_type": "code",
   "execution_count": 10,
   "id": "ca4bc747",
   "metadata": {},
   "outputs": [
    {
     "name": "stdout",
     "output_type": "stream",
     "text": [
      "Enter a new password: Apple\n",
      "Enter the password again: apple\n",
      "They must be in the same case\n"
     ]
    }
   ],
   "source": [
    "#86\n",
    "pw1 = input(\"Enter a new password: \")\n",
    "pw2 = input(\"Enter the password again: \")\n",
    "\n",
    "if pw1 == pw2:\n",
    "    print(\"Thank you\")\n",
    "elif pw1.lower() == pw2.lower():\n",
    "    print(\"They must be in the same case\")\n",
    "else:\n",
    "    printnt(\"Incorrect\")"
   ]
  },
  {
   "cell_type": "code",
   "execution_count": 12,
   "id": "5f55d58d",
   "metadata": {},
   "outputs": [
    {
     "name": "stdout",
     "output_type": "stream",
     "text": [
      "Enter a word: apple\n",
      "e\n",
      "l\n",
      "p\n",
      "p\n",
      "a\n"
     ]
    }
   ],
   "source": [
    "#87\n",
    "word = input(\"Enter a word: \")\n",
    "rev = word[::-1]\n",
    "for i in rev:\n",
    "    print(i)"
   ]
  },
  {
   "cell_type": "code",
   "execution_count": null,
   "id": "d3023fd7",
   "metadata": {},
   "outputs": [],
   "source": []
  }
 ],
 "metadata": {
  "kernelspec": {
   "display_name": "Python 3",
   "language": "python",
   "name": "python3"
  },
  "language_info": {
   "codemirror_mode": {
    "name": "ipython",
    "version": 3
   },
   "file_extension": ".py",
   "mimetype": "text/x-python",
   "name": "python",
   "nbconvert_exporter": "python",
   "pygments_lexer": "ipython3",
   "version": "3.8.8"
  }
 },
 "nbformat": 4,
 "nbformat_minor": 5
}
