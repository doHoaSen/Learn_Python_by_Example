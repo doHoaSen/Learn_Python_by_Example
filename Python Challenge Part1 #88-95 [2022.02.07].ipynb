{
 "cells": [
  {
   "cell_type": "markdown",
   "id": "d21a96c6",
   "metadata": {},
   "source": [
    "# 숫자 배열\n",
    "\n",
    "- array : 숫자만 저장\n",
    "- 배열을 생성할 때 배열에 담을 데이터 타입 정의해야 함\n",
    "- i : Integer\n",
    "- l : Long\n",
    "- f : Floating-point\n",
    "- d: Double"
   ]
  },
  {
   "cell_type": "code",
   "execution_count": 1,
   "id": "8572e6d9",
   "metadata": {},
   "outputs": [
    {
     "name": "stdout",
     "output_type": "stream",
     "text": [
      "Enter a number: 12\n",
      "Enter a number: 36\n",
      "Enter a number: 44\n",
      "Enter a number: 78\n",
      "Enter a number: 90\n",
      "[90, 78, 44, 36, 12]\n"
     ]
    }
   ],
   "source": [
    "#88\n",
    "#다섯 개의 정수 입력받아 배열에 저장, 정렬 한 뒤 역순으로 표시하라\n",
    "\n",
    "from array import *\n",
    "\n",
    "nums = array('i', [])\n",
    "for i in range(5):\n",
    "    num = int(input(\"Enter a number: \"))\n",
    "    nums.append(num)\n",
    "    \n",
    "nums = sorted(nums)\n",
    "nums.reverse()\n",
    "\n",
    "print(nums)"
   ]
  },
  {
   "cell_type": "code",
   "execution_count": 2,
   "id": "4fa639ef",
   "metadata": {},
   "outputs": [
    {
     "name": "stdout",
     "output_type": "stream",
     "text": [
      "14\n",
      "76\n",
      "34\n",
      "50\n",
      "84\n"
     ]
    }
   ],
   "source": [
    "#89\n",
    "#정수 저장할 배열 생성, 임의의 수 다섯 개 생성 후 배열에 저장, 배열의 항목을 한 줄에 하나씩 출력하기\n",
    "\n",
    "from array import *\n",
    "import random\n",
    "\n",
    "nums = array('i', [])\n",
    "\n",
    "for i in range(5):\n",
    "    num = random.randint(1, 100)\n",
    "    nums.append(num)\n",
    "    \n",
    "for i in nums:\n",
    "    print(i)"
   ]
  },
  {
   "cell_type": "code",
   "execution_count": 3,
   "id": "ece5fc0c",
   "metadata": {},
   "outputs": [
    {
     "name": "stdout",
     "output_type": "stream",
     "text": [
      "Enter a number between 10 and 20 : 11\n",
      "Enter a number between 10 and 20 : 33\n",
      "Outside the range\n",
      "Enter a number between 10 and 20 : 15\n",
      "Enter a number between 10 and 20 : 19\n",
      "Enter a number between 10 and 20 : 14\n",
      "Enter a number between 10 and 20 : 20\n",
      "Thank you\n",
      "11\n",
      "15\n",
      "19\n",
      "14\n",
      "20\n"
     ]
    }
   ],
   "source": [
    "#90\n",
    "#숫자 입력 요청, 10-20 사이 숫자 입력 시 배열에 저장, 다른 값이라면 메시지 출력, 다섯 개 숫자 입력 후 배열 항목 한 줄에 하나씩 출력\n",
    "\n",
    "from array import *\n",
    "\n",
    "nums = array('i', [])\n",
    "while len(nums) < 5:\n",
    "    num = int(input(\"Enter a number between 10 and 20 : \"))\n",
    "    if num >= 10 and num <= 20:\n",
    "        nums.append(num)\n",
    "    else:\n",
    "        print(\"Outside the range\")\n",
    "\n",
    "print(\"Thank you\")\n",
    "for i in nums:\n",
    "    print(i)"
   ]
  },
  {
   "cell_type": "code",
   "execution_count": 4,
   "id": "1996302c",
   "metadata": {},
   "outputs": [
    {
     "name": "stdout",
     "output_type": "stream",
     "text": [
      "array('i', [9, 7, 2, 5, 2])\n",
      "Enter a number : 7\n",
      "7 in arrays 1 time(s)\n"
     ]
    }
   ],
   "source": [
    "#91\n",
    "#다섯 개의 숫자를 담고 있는 배열 생성\n",
    "#사용자에게 배열 전체를 출력, 배열 속 숫자 중 하나 입력하라 요청한 뒤, 그 숫자가 몇 개 있는지 표시하기\n",
    "\n",
    "from array import *\n",
    "nums = array('i', [9, 7, 2, 5, 2])\n",
    "\n",
    "print(nums)\n",
    "\n",
    "usernum = int(input(\"Enter a number : \"))\n",
    "\n",
    "if usernum in nums:\n",
    "    print(\"{0} in arrays {1} time(s)\".format(usernum, nums.count(usernum)))"
   ]
  },
  {
   "cell_type": "code",
   "execution_count": 5,
   "id": "46a83180",
   "metadata": {},
   "outputs": [
    {
     "name": "stdout",
     "output_type": "stream",
     "text": [
      "Enter a number: 12\n",
      "Enter a number: 45\n",
      "Enter a number: 91\n",
      "12\n",
      "13\n",
      "27\n",
      "40\n",
      "41\n",
      "45\n",
      "55\n",
      "91\n"
     ]
    }
   ],
   "source": [
    "#92\n",
    "#두 개의 빈 배열 생성. 하나에는 사용자가 입력할 숫자 3개, 다른 하나에는 다섯 개의 임의의 숫자.\n",
    "#두 개의 배열을 큰 배열 하나로 결합, 결합한 배열 정리 후 각 항목 한 줄에 하나씩 출력하기\n",
    "\n",
    "from array import *\n",
    "import random\n",
    "\n",
    "array1 = array('i', []) #3 usernums\n",
    "array2 = array('i', []) #5 random numbers\n",
    "\n",
    "for i in range(3):\n",
    "    num = int(input(\"Enter a number: \"))\n",
    "    array1.append(num)\n",
    "    \n",
    "for i in range(5):\n",
    "    num = random.randint(1, 100)\n",
    "    array2.append(num)\n",
    "    \n",
    "newarray = array1 + array2\n",
    "newarray = sorted(newarray)\n",
    "\n",
    "for i in newarray:\n",
    "    print(i)"
   ]
  },
  {
   "cell_type": "code",
   "execution_count": 7,
   "id": "1971ab05",
   "metadata": {},
   "outputs": [
    {
     "name": "stdout",
     "output_type": "stream",
     "text": [
      "Enter a number: 2\n",
      "Enter a number: 34\n",
      "Enter a number: 57\n",
      "Enter a number: 12\n",
      "Enter a number: 37\n",
      "[2, 12, 34, 37, 57]\n",
      "Enter a number from the array : 34\n",
      "[2, 12, 37, 57]\n",
      "array('i', [34])\n"
     ]
    }
   ],
   "source": [
    "#93\n",
    "#숫자 다섯 개 입력, 입력된 숫자 정렬 뒤 사용자에게 표시\n",
    "#배열 숫자 중 하나 고르라고 요청 후 입력된 숫자를 배열에 삭제한 뒤 새로운 배열에 그 값 저장\n",
    "\n",
    "from array import *\n",
    "\n",
    "numarray = array('i', [])\n",
    "for i in range(5):\n",
    "    num = int(input(\"Enter a number: \"))\n",
    "    numarray.append(num)\n",
    "\n",
    "numarray = sorted(numarray)\n",
    "print(numarray)\n",
    "\n",
    "num = int(input(\"Enter a number from the array : \"))\n",
    "\n",
    "delnum = array('i', [])\n",
    "numarray.remove(num)\n",
    "delnum.append(num)\n",
    "\n",
    "print(numarray)\n",
    "print(delnum)"
   ]
  },
  {
   "cell_type": "code",
   "execution_count": 11,
   "id": "0940e88a",
   "metadata": {},
   "outputs": [
    {
     "name": "stdout",
     "output_type": "stream",
     "text": [
      "12 34 56 78 90 \n",
      "Enter a number from the array: 17\n",
      "The number not in the array. Try again\n",
      "Enter a number from the array: 56\n",
      "2\n"
     ]
    }
   ],
   "source": [
    "#94\n",
    "#다섯 개의 숫자를 가진 배열 출력, 숫자 중 하나 고르라고 요청\n",
    "#숫자를 고르면 그 항목의 인덱스 출력\n",
    "\n",
    "from array import *\n",
    "\n",
    "nums = array('i', [12, 34, 56, 78, 90])\n",
    "for i in nums:\n",
    "    print(i, end= ' ')\n",
    "    \n",
    "print()\n",
    "while True:\n",
    "    num = int(input(\"Enter a number from the array: \"))\n",
    "    if num in nums:\n",
    "        print(nums.index(num))\n",
    "        break\n",
    "    else:\n",
    "        print(\"The number not in the array. Try again\")\n",
    "\n",
    "    "
   ]
  },
  {
   "cell_type": "code",
   "execution_count": 18,
   "id": "22fd9b27",
   "metadata": {},
   "outputs": [
    {
     "name": "stdout",
     "output_type": "stream",
     "text": [
      "array('f', [35.209999084472656, 64.12999725341797, 40.279998779296875, 63.88999938964844, 15.449999809265137])\n",
      "enter a number between 2 and 5: 8\n",
      "Try again: \n",
      "enter a number between 2 and 5: 3\n",
      "0.63\n",
      "1.15\n",
      "0.72\n",
      "1.14\n",
      "0.28\n"
     ]
    }
   ],
   "source": [
    "#95\n",
    "#소수점 이하 두 자리가 있는 10과 100 사이의 숫자 5개 포함하는 배열 생성\n",
    "#사용자에게 2와 5 사이 정수 입력하도록\n",
    "#입력한 숫자가 범위에 없다면 에러 메시지 출력, 배열에 있는 각 숫자를 사용자가 입력한 숫자로 나누고 소수점 둘째 자리까지 표시\n",
    "\n",
    "from array import *\n",
    "import math\n",
    "\n",
    "nums = array('f', [35.21, 64.13, 40.28, 63.89, 15.45])\n",
    "print(nums)\n",
    "\n",
    "while True:\n",
    "    usernum = int(input(\"enter a number between 2 and 5: \"))\n",
    "    if usernum < 2 or usernum > 5:\n",
    "        print(\"Try again: \")\n",
    "    else:\n",
    "        break\n",
    "\n",
    "for i in range(5):\n",
    "    ans = nums[i] / num\n",
    "    print(round(ans, 2))"
   ]
  },
  {
   "cell_type": "code",
   "execution_count": null,
   "id": "cd57284e",
   "metadata": {},
   "outputs": [],
   "source": []
  }
 ],
 "metadata": {
  "kernelspec": {
   "display_name": "Python 3",
   "language": "python",
   "name": "python3"
  },
  "language_info": {
   "codemirror_mode": {
    "name": "ipython",
    "version": 3
   },
   "file_extension": ".py",
   "mimetype": "text/x-python",
   "name": "python",
   "nbconvert_exporter": "python",
   "pygments_lexer": "ipython3",
   "version": "3.8.8"
  }
 },
 "nbformat": 4,
 "nbformat_minor": 5
}
